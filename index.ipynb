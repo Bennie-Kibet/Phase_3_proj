{
 "cells": [
  {
   "cell_type": "markdown",
   "metadata": {},
   "source": [
    "When preparing data for machine learning (ML), especially for classification tasks, there are several key steps to ensure the model performs well. Here's an overview of the main things to be done:\n",
    "\n",
    "### 1. **Data Collection**\n",
    "   - Gather relevant data from various sources (databases, APIs, etc.) to ensure it is representative of the problem you want to solve.\n",
    "\n",
    "### 2. **Data Cleaning**\n",
    "   - **Handle Missing Values**: Identify and deal with missing values (e.g., remove rows, fill with mean/median/mode, or use more advanced imputation techniques).\n",
    "   - **Remove Duplicates**: Check for and remove duplicate rows to avoid bias and overfitting.\n",
    "   - **Correct Data Errors**: Identify and correct any errors or inconsistencies in the data (e.g., outliers, incorrect entries).\n",
    "\n",
    "### 3. **Data Transformation**\n",
    "   - **Normalization/Standardization**: Scale numeric features to a standard range (e.g., 0-1 or z-scores) to help the model learn more effectively.\n",
    "   - **Encoding Categorical Variables**: Convert categorical variables into numerical form (e.g., one-hot encoding, label encoding).\n",
    "   - **Feature Engineering**: Create new features from existing data that might help the model (e.g., deriving day of the week from a date).\n",
    "   - **Dimensionality Reduction**: Reduce the number of features using techniques like PCA (Principal Component Analysis) to simplify the model and reduce overfitting.\n",
    "\n",
    "### 4. **Data Splitting**\n",
    "   - **Train-Test Split**: Divide the dataset into training and testing subsets (e.g., 70-30 or 80-20 split) to evaluate the model's performance on unseen data.\n",
    "   - **Validation Set**: Optionally, create a separate validation set to fine-tune model hyperparameters (e.g., 60-20-20 split for train-validation-test).\n",
    "\n",
    "### 5. **Feature Selection**\n",
    "   - Identify and select the most relevant features that have the highest predictive power to reduce noise and improve model performance (e.g., using correlation, feature importance scores).\n",
    "\n",
    "### 6. **Balancing the Dataset**\n",
    "   - **Handle Imbalanced Classes**: If the dataset has imbalanced classes, apply techniques such as oversampling, undersampling, or using class weights to ensure the model doesn't become biased toward the majority class.\n",
    "\n",
    "### 7. **Data Augmentation**\n",
    "   - For small datasets, artificially increase the dataset size by creating modified versions of existing data (e.g., adding noise, transformations).\n",
    "\n",
    "### 8. **Data Preprocessing Pipelines**\n",
    "   - Automate and ensure consistency by creating preprocessing pipelines using libraries like `scikit-learn` to apply these steps systematically to the training and test data.\n",
    "\n",
    "### 9. **Data Quality Checks**\n",
    "   - Perform checks to ensure data consistency and quality throughout the preprocessing steps, such as checking distributions, correlations, and anomalies.\n",
    "\n",
    "### 10. **Data Visualization and Analysis**\n",
    "   - Use visualization techniques (like histograms, scatter plots, heatmaps) to understand the data distribution, identify patterns, detect outliers, and gain insights.\n",
    "\n",
    "Would you like more detail on any of these steps?"
   ]
  },
  {
   "cell_type": "markdown",
   "metadata": {},
   "source": [
    "## Objectives\n",
    "1. To predict whether an arrest was made after a Terry Stop\n",
    "2. Arrest given information about the presence of weapons\n",
    "3. The time of day of the call"
   ]
  },
  {
   "cell_type": "markdown",
   "metadata": {},
   "source": [
    "## Data collection"
   ]
  },
  {
   "cell_type": "markdown",
   "metadata": {},
   "source": [
    "### Importing libraries"
   ]
  },
  {
   "cell_type": "code",
   "execution_count": 5,
   "metadata": {},
   "outputs": [],
   "source": [
    "# import relevant libraries\n",
    "import pandas as pd \n",
    "import numpy as np \n",
    "import matplotlib.pyplot as plt \n",
    "%matplotlib inline\n",
    "import seaborn as sns \n",
    "from sklearn.preprocessing import LabelEncoder\n",
    "from sklearn.model_selection import train_test_split, cross_val_score\n",
    "from sklearn.preprocessing import OneHotEncoder\n",
    "from sklearn.metrics import roc_auc_score, ConfusionMatrixDisplay, classification_report, accuracy_score, confusion_matrix, roc_curve\n",
    "from sklearn.preprocessing import StandardScaler\n",
    "from imblearn.over_sampling import SMOTE\n",
    "from sklearn.linear_model import LogisticRegression\n",
    "from sklearn.tree import DecisionTreeClassifier\n",
    "from sklearn.ensemble import RandomForestClassifier\n",
    "from sklearn.model_selection import GridSearchCV \n",
    "from sklearn.feature_selection import SelectFromModel \n",
    "from sklearn.linear_model import LogisticRegressionCV\n"
   ]
  },
  {
   "cell_type": "markdown",
   "metadata": {},
   "source": [
    "### Data Understanding"
   ]
  },
  {
   "cell_type": "code",
   "execution_count": 6,
   "metadata": {},
   "outputs": [
    {
     "data": {
      "text/html": [
       "<div>\n",
       "<style scoped>\n",
       "    .dataframe tbody tr th:only-of-type {\n",
       "        vertical-align: middle;\n",
       "    }\n",
       "\n",
       "    .dataframe tbody tr th {\n",
       "        vertical-align: top;\n",
       "    }\n",
       "\n",
       "    .dataframe thead th {\n",
       "        text-align: right;\n",
       "    }\n",
       "</style>\n",
       "<table border=\"1\" class=\"dataframe\">\n",
       "  <thead>\n",
       "    <tr style=\"text-align: right;\">\n",
       "      <th></th>\n",
       "      <th>Subject Age Group</th>\n",
       "      <th>Subject ID</th>\n",
       "      <th>GO / SC Num</th>\n",
       "      <th>Terry Stop ID</th>\n",
       "      <th>Stop Resolution</th>\n",
       "      <th>Weapon Type</th>\n",
       "      <th>Officer ID</th>\n",
       "      <th>Officer YOB</th>\n",
       "      <th>Officer Gender</th>\n",
       "      <th>Officer Race</th>\n",
       "      <th>...</th>\n",
       "      <th>Reported Time</th>\n",
       "      <th>Initial Call Type</th>\n",
       "      <th>Final Call Type</th>\n",
       "      <th>Call Type</th>\n",
       "      <th>Officer Squad</th>\n",
       "      <th>Arrest Flag</th>\n",
       "      <th>Frisk Flag</th>\n",
       "      <th>Precinct</th>\n",
       "      <th>Sector</th>\n",
       "      <th>Beat</th>\n",
       "    </tr>\n",
       "  </thead>\n",
       "  <tbody>\n",
       "    <tr>\n",
       "      <th>0</th>\n",
       "      <td>36 - 45</td>\n",
       "      <td>-1</td>\n",
       "      <td>20160000398323</td>\n",
       "      <td>208373</td>\n",
       "      <td>Offense Report</td>\n",
       "      <td>None</td>\n",
       "      <td>4852</td>\n",
       "      <td>1953</td>\n",
       "      <td>M</td>\n",
       "      <td>Asian</td>\n",
       "      <td>...</td>\n",
       "      <td>15:18:00.0000000</td>\n",
       "      <td>TRESPASS</td>\n",
       "      <td>--SUSPICIOUS CIRCUM. - SUSPICIOUS PERSON</td>\n",
       "      <td>911</td>\n",
       "      <td>NORTH PCT 2ND W - LINCOLN - PLATOON 1</td>\n",
       "      <td>N</td>\n",
       "      <td>N</td>\n",
       "      <td>North</td>\n",
       "      <td>L</td>\n",
       "      <td>L3</td>\n",
       "    </tr>\n",
       "    <tr>\n",
       "      <th>1</th>\n",
       "      <td>18 - 25</td>\n",
       "      <td>-1</td>\n",
       "      <td>20180000227180</td>\n",
       "      <td>559146</td>\n",
       "      <td>Citation / Infraction</td>\n",
       "      <td>None</td>\n",
       "      <td>5472</td>\n",
       "      <td>1964</td>\n",
       "      <td>M</td>\n",
       "      <td>Asian</td>\n",
       "      <td>...</td>\n",
       "      <td>00:07:00.0000000</td>\n",
       "      <td>SUSPICIOUS PERSON, VEHICLE, OR INCIDENT</td>\n",
       "      <td>--TRAFFIC - BICYCLE VIOLATION</td>\n",
       "      <td>911</td>\n",
       "      <td>SOUTHWEST PCT - 3RD WATCH - F/W RELIEF</td>\n",
       "      <td>N</td>\n",
       "      <td>N</td>\n",
       "      <td>Southwest</td>\n",
       "      <td>F</td>\n",
       "      <td>F3</td>\n",
       "    </tr>\n",
       "    <tr>\n",
       "      <th>2</th>\n",
       "      <td>18 - 25</td>\n",
       "      <td>-1</td>\n",
       "      <td>20180000410091</td>\n",
       "      <td>498246</td>\n",
       "      <td>Offense Report</td>\n",
       "      <td>None</td>\n",
       "      <td>6081</td>\n",
       "      <td>1962</td>\n",
       "      <td>M</td>\n",
       "      <td>White</td>\n",
       "      <td>...</td>\n",
       "      <td>02:56:00.0000000</td>\n",
       "      <td>NARCOTICS - VIOLATIONS (LOITER, USE, SELL, NARS)</td>\n",
       "      <td>--SUSPICIOUS CIRCUM. - SUSPICIOUS PERSON</td>\n",
       "      <td>911</td>\n",
       "      <td>NORTH PCT 3RD W - BOY (JOHN) - PLATOON 1</td>\n",
       "      <td>N</td>\n",
       "      <td>N</td>\n",
       "      <td>North</td>\n",
       "      <td>B</td>\n",
       "      <td>B1</td>\n",
       "    </tr>\n",
       "    <tr>\n",
       "      <th>3</th>\n",
       "      <td>-</td>\n",
       "      <td>-1</td>\n",
       "      <td>20160000001637</td>\n",
       "      <td>146742</td>\n",
       "      <td>Field Contact</td>\n",
       "      <td>None</td>\n",
       "      <td>6924</td>\n",
       "      <td>1974</td>\n",
       "      <td>M</td>\n",
       "      <td>White</td>\n",
       "      <td>...</td>\n",
       "      <td>01:44:00.0000000</td>\n",
       "      <td>-</td>\n",
       "      <td>-</td>\n",
       "      <td>-</td>\n",
       "      <td>EAST PCT OPS - NIGHT ACT</td>\n",
       "      <td>N</td>\n",
       "      <td>N</td>\n",
       "      <td>East</td>\n",
       "      <td>C</td>\n",
       "      <td>C1</td>\n",
       "    </tr>\n",
       "    <tr>\n",
       "      <th>4</th>\n",
       "      <td>46 - 55</td>\n",
       "      <td>-1</td>\n",
       "      <td>20150000006037</td>\n",
       "      <td>104477</td>\n",
       "      <td>Field Contact</td>\n",
       "      <td>None</td>\n",
       "      <td>6732</td>\n",
       "      <td>1975</td>\n",
       "      <td>M</td>\n",
       "      <td>White</td>\n",
       "      <td>...</td>\n",
       "      <td>02:59:00.0000000</td>\n",
       "      <td>-</td>\n",
       "      <td>-</td>\n",
       "      <td>-</td>\n",
       "      <td>SOUTH PCT 3RD W - SAM - PLATOON 2</td>\n",
       "      <td>N</td>\n",
       "      <td>N</td>\n",
       "      <td>North</td>\n",
       "      <td>B</td>\n",
       "      <td>B2</td>\n",
       "    </tr>\n",
       "  </tbody>\n",
       "</table>\n",
       "<p>5 rows × 23 columns</p>\n",
       "</div>"
      ],
      "text/plain": [
       "  Subject Age Group  Subject ID     GO / SC Num  Terry Stop ID  \\\n",
       "0           36 - 45          -1  20160000398323         208373   \n",
       "1           18 - 25          -1  20180000227180         559146   \n",
       "2           18 - 25          -1  20180000410091         498246   \n",
       "3                 -          -1  20160000001637         146742   \n",
       "4           46 - 55          -1  20150000006037         104477   \n",
       "\n",
       "         Stop Resolution Weapon Type Officer ID  Officer YOB Officer Gender  \\\n",
       "0         Offense Report        None       4852         1953              M   \n",
       "1  Citation / Infraction        None       5472         1964              M   \n",
       "2         Offense Report        None       6081         1962              M   \n",
       "3          Field Contact        None       6924         1974              M   \n",
       "4          Field Contact        None       6732         1975              M   \n",
       "\n",
       "  Officer Race  ...     Reported Time  \\\n",
       "0        Asian  ...  15:18:00.0000000   \n",
       "1        Asian  ...  00:07:00.0000000   \n",
       "2        White  ...  02:56:00.0000000   \n",
       "3        White  ...  01:44:00.0000000   \n",
       "4        White  ...  02:59:00.0000000   \n",
       "\n",
       "                                  Initial Call Type  \\\n",
       "0                                          TRESPASS   \n",
       "1           SUSPICIOUS PERSON, VEHICLE, OR INCIDENT   \n",
       "2  NARCOTICS - VIOLATIONS (LOITER, USE, SELL, NARS)   \n",
       "3                                                 -   \n",
       "4                                                 -   \n",
       "\n",
       "                            Final Call Type Call Type  \\\n",
       "0  --SUSPICIOUS CIRCUM. - SUSPICIOUS PERSON       911   \n",
       "1             --TRAFFIC - BICYCLE VIOLATION       911   \n",
       "2  --SUSPICIOUS CIRCUM. - SUSPICIOUS PERSON       911   \n",
       "3                                         -         -   \n",
       "4                                         -         -   \n",
       "\n",
       "                              Officer Squad Arrest Flag Frisk Flag   Precinct  \\\n",
       "0     NORTH PCT 2ND W - LINCOLN - PLATOON 1           N          N      North   \n",
       "1    SOUTHWEST PCT - 3RD WATCH - F/W RELIEF           N          N  Southwest   \n",
       "2  NORTH PCT 3RD W - BOY (JOHN) - PLATOON 1           N          N      North   \n",
       "3                  EAST PCT OPS - NIGHT ACT           N          N       East   \n",
       "4         SOUTH PCT 3RD W - SAM - PLATOON 2           N          N      North   \n",
       "\n",
       "  Sector Beat  \n",
       "0      L   L3  \n",
       "1      F   F3  \n",
       "2      B   B1  \n",
       "3      C   C1  \n",
       "4      B   B2  \n",
       "\n",
       "[5 rows x 23 columns]"
      ]
     },
     "execution_count": 6,
     "metadata": {},
     "output_type": "execute_result"
    }
   ],
   "source": [
    "df = pd.read_csv('Terry_Stops_20240825.csv')\n",
    "df.head()"
   ]
  },
  {
   "cell_type": "code",
   "execution_count": 7,
   "metadata": {},
   "outputs": [
    {
     "data": {
      "text/plain": [
       "Index(['Subject Age Group', 'Subject ID', 'GO / SC Num', 'Terry Stop ID',\n",
       "       'Stop Resolution', 'Weapon Type', 'Officer ID', 'Officer YOB',\n",
       "       'Officer Gender', 'Officer Race', 'Subject Perceived Race',\n",
       "       'Subject Perceived Gender', 'Reported Date', 'Reported Time',\n",
       "       'Initial Call Type', 'Final Call Type', 'Call Type', 'Officer Squad',\n",
       "       'Arrest Flag', 'Frisk Flag', 'Precinct', 'Sector', 'Beat'],\n",
       "      dtype='object')"
      ]
     },
     "execution_count": 7,
     "metadata": {},
     "output_type": "execute_result"
    }
   ],
   "source": [
    "df.columns"
   ]
  },
  {
   "cell_type": "code",
   "execution_count": 8,
   "metadata": {},
   "outputs": [
    {
     "name": "stdout",
     "output_type": "stream",
     "text": [
      "Number of rows = 61009\n",
      "Number of columns = 23\n"
     ]
    }
   ],
   "source": [
    "#checking data  shape\n",
    "df.shape\n",
    "print('Number of rows =', df.shape[0])\n",
    "print('Number of columns =', df.shape[1])"
   ]
  },
  {
   "cell_type": "code",
   "execution_count": 9,
   "metadata": {},
   "outputs": [
    {
     "name": "stdout",
     "output_type": "stream",
     "text": [
      "<class 'pandas.core.frame.DataFrame'>\n",
      "RangeIndex: 61009 entries, 0 to 61008\n",
      "Data columns (total 23 columns):\n",
      " #   Column                    Non-Null Count  Dtype \n",
      "---  ------                    --------------  ----- \n",
      " 0   Subject Age Group         61009 non-null  object\n",
      " 1   Subject ID                61009 non-null  int64 \n",
      " 2   GO / SC Num               61009 non-null  int64 \n",
      " 3   Terry Stop ID             61009 non-null  int64 \n",
      " 4   Stop Resolution           61009 non-null  object\n",
      " 5   Weapon Type               61009 non-null  object\n",
      " 6   Officer ID                61009 non-null  object\n",
      " 7   Officer YOB               61009 non-null  int64 \n",
      " 8   Officer Gender            61009 non-null  object\n",
      " 9   Officer Race              61009 non-null  object\n",
      " 10  Subject Perceived Race    61009 non-null  object\n",
      " 11  Subject Perceived Gender  61009 non-null  object\n",
      " 12  Reported Date             61009 non-null  object\n",
      " 13  Reported Time             61009 non-null  object\n",
      " 14  Initial Call Type         61009 non-null  object\n",
      " 15  Final Call Type           61009 non-null  object\n",
      " 16  Call Type                 61009 non-null  object\n",
      " 17  Officer Squad             60448 non-null  object\n",
      " 18  Arrest Flag               61009 non-null  object\n",
      " 19  Frisk Flag                61009 non-null  object\n",
      " 20  Precinct                  61009 non-null  object\n",
      " 21  Sector                    61009 non-null  object\n",
      " 22  Beat                      61009 non-null  object\n",
      "dtypes: int64(4), object(19)\n",
      "memory usage: 10.7+ MB\n"
     ]
    }
   ],
   "source": [
    "df.info()"
   ]
  },
  {
   "cell_type": "markdown",
   "metadata": {},
   "source": [
    "## Checking for null values"
   ]
  },
  {
   "cell_type": "code",
   "execution_count": 10,
   "metadata": {},
   "outputs": [
    {
     "data": {
      "text/plain": [
       "Subject Age Group             0\n",
       "Subject ID                    0\n",
       "GO / SC Num                   0\n",
       "Terry Stop ID                 0\n",
       "Stop Resolution               0\n",
       "Weapon Type                   0\n",
       "Officer ID                    0\n",
       "Officer YOB                   0\n",
       "Officer Gender                0\n",
       "Officer Race                  0\n",
       "Subject Perceived Race        0\n",
       "Subject Perceived Gender      0\n",
       "Reported Date                 0\n",
       "Reported Time                 0\n",
       "Initial Call Type             0\n",
       "Final Call Type               0\n",
       "Call Type                     0\n",
       "Officer Squad               561\n",
       "Arrest Flag                   0\n",
       "Frisk Flag                    0\n",
       "Precinct                      0\n",
       "Sector                        0\n",
       "Beat                          0\n",
       "dtype: int64"
      ]
     },
     "execution_count": 10,
     "metadata": {},
     "output_type": "execute_result"
    }
   ],
   "source": [
    "df.isnull().sum()"
   ]
  },
  {
   "cell_type": "markdown",
   "metadata": {},
   "source": [
    "The dataset contains a significant number of NaN values relative to its size (61,009 entries).\n",
    "\n",
    "    The output indicates the count of missing values (NaN or null values) for each column in the dataset:\n",
    "\n",
    "    officer squad has 561 missing values."
   ]
  },
  {
   "cell_type": "code",
   "execution_count": 11,
   "metadata": {},
   "outputs": [],
   "source": [
    "def missing_data(df, column):\n",
    "    length_of_df=len(df)                                                    \n",
    "    missing_data= column.isna().sum()                                       \n",
    "    percentage_of_missing_data = round((missing_data/length_of_df*100),2)   \n",
    "    return print(f\"Percentage of Missing Data: {percentage_of_missing_data}\"\"%\")"
   ]
  },
  {
   "cell_type": "code",
   "execution_count": 12,
   "metadata": {},
   "outputs": [
    {
     "name": "stdout",
     "output_type": "stream",
     "text": [
      "Percentage of Missing Data: 0.92%\n"
     ]
    }
   ],
   "source": [
    "missing_data(df,df['Officer Squad'])"
   ]
  },
  {
   "cell_type": "code",
   "execution_count": 13,
   "metadata": {},
   "outputs": [],
   "source": [
    "# Function to replace nulls in officer squad column with the mode of officer squad for the same precinct\n",
    "def replace_null_with_mode(df, target_col, group_col):\n",
    "    # Iterating through the rows with null values in the target column\n",
    "    for index, row in df[df[target_col].isnull()].iterrows():\n",
    "        # Getting the corresponding group value (zipcode)\n",
    "        group_value = row[group_col]\n",
    "        # Filtering the DataFrame to include only rows with the same group value and non-null target values\n",
    "        filtered_df = df[(df[group_col] == group_value) & df[target_col].notnull()]\n",
    "        # Getting the mode of the target column in the filtered DataFrame\n",
    "        mode_value = filtered_df[target_col].mode()\n",
    "        # Checking if mode_value is not empty\n",
    "        if not mode_value.empty:\n",
    "            # Replacing the null value with the mode value\n",
    "            df.at[index, target_col] = mode_value[0]\n",
    "    return df\n",
    "\n",
    "# Replacing nulls in officer squad with the mode of officer squad for the same precinct\n",
    "df = replace_null_with_mode(df, 'Officer Squad', 'Precinct')\n"
   ]
  },
  {
   "cell_type": "code",
   "execution_count": 14,
   "metadata": {},
   "outputs": [
    {
     "data": {
      "text/plain": [
       "Subject Age Group           0\n",
       "Subject ID                  0\n",
       "GO / SC Num                 0\n",
       "Terry Stop ID               0\n",
       "Stop Resolution             0\n",
       "Weapon Type                 0\n",
       "Officer ID                  0\n",
       "Officer YOB                 0\n",
       "Officer Gender              0\n",
       "Officer Race                0\n",
       "Subject Perceived Race      0\n",
       "Subject Perceived Gender    0\n",
       "Reported Date               0\n",
       "Reported Time               0\n",
       "Initial Call Type           0\n",
       "Final Call Type             0\n",
       "Call Type                   0\n",
       "Officer Squad               0\n",
       "Arrest Flag                 0\n",
       "Frisk Flag                  0\n",
       "Precinct                    0\n",
       "Sector                      0\n",
       "Beat                        0\n",
       "dtype: int64"
      ]
     },
     "execution_count": 14,
     "metadata": {},
     "output_type": "execute_result"
    }
   ],
   "source": [
    "df.isna().sum()"
   ]
  },
  {
   "cell_type": "markdown",
   "metadata": {},
   "source": [
    "### Checking for duplicates"
   ]
  },
  {
   "cell_type": "code",
   "execution_count": 15,
   "metadata": {},
   "outputs": [
    {
     "data": {
      "text/plain": [
       "0"
      ]
     },
     "execution_count": 15,
     "metadata": {},
     "output_type": "execute_result"
    }
   ],
   "source": [
    "df.duplicated().sum()"
   ]
  },
  {
   "cell_type": "markdown",
   "metadata": {},
   "source": [
    "### Further exploration"
   ]
  },
  {
   "cell_type": "code",
   "execution_count": 16,
   "metadata": {},
   "outputs": [
    {
     "data": {
      "text/plain": [
       "N    45931\n",
       "Y    14600\n",
       "-      478\n",
       "Name: Frisk Flag, dtype: int64"
      ]
     },
     "execution_count": 16,
     "metadata": {},
     "output_type": "execute_result"
    }
   ],
   "source": [
    "df['Frisk Flag'].value_counts()"
   ]
  },
  {
   "cell_type": "code",
   "execution_count": 17,
   "metadata": {},
   "outputs": [],
   "source": [
    "df['Frisk Flag'].replace(to_replace=['N', '-', 'Y'], value=[0, 0, 1], inplace=True)"
   ]
  },
  {
   "cell_type": "code",
   "execution_count": 18,
   "metadata": {},
   "outputs": [
    {
     "data": {
      "text/plain": [
       "0    46409\n",
       "1    14600\n",
       "Name: Frisk Flag, dtype: int64"
      ]
     },
     "execution_count": 18,
     "metadata": {},
     "output_type": "execute_result"
    }
   ],
   "source": [
    "df['Frisk Flag'].value_counts()"
   ]
  },
  {
   "cell_type": "markdown",
   "metadata": {},
   "source": [
    "In this case 1 shows whether a frisk was done while 0 is that none was done."
   ]
  },
  {
   "cell_type": "code",
   "execution_count": 21,
   "metadata": {},
   "outputs": [
    {
     "data": {
      "text/plain": [
       "N    54427\n",
       "Y     6582\n",
       "Name: Arrest Flag, dtype: int64"
      ]
     },
     "execution_count": 21,
     "metadata": {},
     "output_type": "execute_result"
    }
   ],
   "source": [
    "df['Arrest Flag'].value_counts()"
   ]
  },
  {
   "cell_type": "markdown",
   "metadata": {},
   "source": [
    "## Visualization of relationship"
   ]
  },
  {
   "cell_type": "code",
   "execution_count": 22,
   "metadata": {},
   "outputs": [
    {
     "data": {
      "image/png": "[encoded data removed]",
      "text/plain": [
       "<Figure size 432x288 with 1 Axes>"
      ]
     },
     "metadata": {
      "needs_background": "light"
     },
     "output_type": "display_data"
    },
    {
     "name": "stdout",
     "output_type": "stream",
     "text": [
      "N    54427\n",
      "Y     6582\n",
      "Name: Arrest Flag, dtype: int64\n"
     ]
    }
   ],
   "source": [
    "# Distribution of Churn\n",
    "sns.countplot(x='Arrest Flag', data=df, palette='dark')\n",
    "plt.title('Arrest Distribution')\n",
    "plt.xlabel('Arrests')\n",
    "plt.ylabel('Frequency')\n",
    "plt.show()\n",
    "\n",
    "print(df['Arrest Flag'].value_counts())"
   ]
  },
  {
   "cell_type": "markdown",
   "metadata": {},
   "source": [
    ">From the above plot the number of arrests made were few after a terry stop"
   ]
  },
  {
   "cell_type": "code",
   "execution_count": null,
   "metadata": {},
   "outputs": [],
   "source": [
    "#total charge of calls per area code\n",
    "\n",
    "# Create subplots for each variable\n",
    "fig, axs = plt.subplots(1, 3, figsize=(12, 4))\n",
    "\n",
    "# Plot histograms for each variable\n",
    "axs[0].hist(df['total day minutes'], bins=20, edgecolor='k')\n",
    "axs[0].set_title('Total day minutes')\n",
    "axs[0].set_xlabel('Minutes')\n",
    "axs[0].set_ylabel('Frequency')\n",
    "\n",
    "axs[1].hist(df['total eve minutes'], bins=20, edgecolor='k')\n",
    "axs[1].set_title('Total evening minutes')\n",
    "axs[1].set_xlabel('Minutes')\n",
    "axs[1].set_ylabel('Frequency')\n",
    "\n",
    "axs[2].hist(df.['total night minutes'], bins=20, edgecolor='k')\n",
    "axs[2].set_title('Total night minutes')\n",
    "axs[2].set_xlabel('Minutes')\n",
    "axs[2].set_ylabel('Frequency')\n",
    "\n",
    "# Adjust spacing between subplots\n",
    "plt.tight_layout()\n",
    "\n",
    "# Display the plots\n",
    "plt.show()"
   ]
  },
  {
   "cell_type": "code",
   "execution_count": null,
   "metadata": {},
   "outputs": [],
   "source": []
  },
  {
   "cell_type": "markdown",
   "metadata": {},
   "source": [
    "## Data splitting\n"
   ]
  },
  {
   "cell_type": "code",
   "execution_count": null,
   "metadata": {},
   "outputs": [],
   "source": [
    "X1 = None\n",
    "y1 = None"
   ]
  },
  {
   "cell_type": "code",
   "execution_count": null,
   "metadata": {},
   "outputs": [
    {
     "ename": "TypeError",
     "evalue": "Expected sequence or array-like, got <class 'NoneType'>",
     "output_type": "error",
     "traceback": [
      "\u001b[1;31m---------------------------------------------------------------------------\u001b[0m",
      "\u001b[1;31mTypeError\u001b[0m                                 Traceback (most recent call last)",
      "\u001b[1;32m<ipython-input-131-a2602a82a55c>\u001b[0m in \u001b[0;36m<module>\u001b[1;34m\u001b[0m\n\u001b[1;32m----> 1\u001b[1;33m \u001b[0mX1_train\u001b[0m\u001b[1;33m,\u001b[0m \u001b[0mX1_test\u001b[0m\u001b[1;33m,\u001b[0m \u001b[0my1_train\u001b[0m\u001b[1;33m,\u001b[0m \u001b[0my1_test\u001b[0m \u001b[1;33m=\u001b[0m \u001b[0mtrain_test_split\u001b[0m\u001b[1;33m(\u001b[0m\u001b[0mX1\u001b[0m\u001b[1;33m,\u001b[0m\u001b[0my1\u001b[0m\u001b[1;33m,\u001b[0m\u001b[0mtest_size\u001b[0m\u001b[1;33m=\u001b[0m\u001b[1;36m0.2\u001b[0m\u001b[1;33m,\u001b[0m\u001b[0mrandom_state\u001b[0m\u001b[1;33m=\u001b[0m\u001b[1;36m42\u001b[0m\u001b[1;33m)\u001b[0m\u001b[1;33m\u001b[0m\u001b[1;33m\u001b[0m\u001b[0m\n\u001b[0m",
      "\u001b[1;32mc:\\Users\\Bennie Kibet\\anaconda3\\envs\\learn-env\\lib\\site-packages\\sklearn\\utils\\_param_validation.py\u001b[0m in \u001b[0;36mwrapper\u001b[1;34m(*args, **kwargs)\u001b[0m\n\u001b[0;32m    212\u001b[0m                     )\n\u001b[0;32m    213\u001b[0m                 ):\n\u001b[1;32m--> 214\u001b[1;33m                     \u001b[1;32mreturn\u001b[0m \u001b[0mfunc\u001b[0m\u001b[1;33m(\u001b[0m\u001b[1;33m*\u001b[0m\u001b[0margs\u001b[0m\u001b[1;33m,\u001b[0m \u001b[1;33m**\u001b[0m\u001b[0mkwargs\u001b[0m\u001b[1;33m)\u001b[0m\u001b[1;33m\u001b[0m\u001b[1;33m\u001b[0m\u001b[0m\n\u001b[0m\u001b[0;32m    215\u001b[0m             \u001b[1;32mexcept\u001b[0m \u001b[0mInvalidParameterError\u001b[0m \u001b[1;32mas\u001b[0m \u001b[0me\u001b[0m\u001b[1;33m:\u001b[0m\u001b[1;33m\u001b[0m\u001b[1;33m\u001b[0m\u001b[0m\n\u001b[0;32m    216\u001b[0m                 \u001b[1;31m# When the function is just a wrapper around an estimator, we allow\u001b[0m\u001b[1;33m\u001b[0m\u001b[1;33m\u001b[0m\u001b[1;33m\u001b[0m\u001b[0m\n",
      "\u001b[1;32mc:\\Users\\Bennie Kibet\\anaconda3\\envs\\learn-env\\lib\\site-packages\\sklearn\\model_selection\\_split.py\u001b[0m in \u001b[0;36mtrain_test_split\u001b[1;34m(test_size, train_size, random_state, shuffle, stratify, *arrays)\u001b[0m\n\u001b[0;32m   2646\u001b[0m     \u001b[0marrays\u001b[0m \u001b[1;33m=\u001b[0m \u001b[0mindexable\u001b[0m\u001b[1;33m(\u001b[0m\u001b[1;33m*\u001b[0m\u001b[0marrays\u001b[0m\u001b[1;33m)\u001b[0m\u001b[1;33m\u001b[0m\u001b[1;33m\u001b[0m\u001b[0m\n\u001b[0;32m   2647\u001b[0m \u001b[1;33m\u001b[0m\u001b[0m\n\u001b[1;32m-> 2648\u001b[1;33m     \u001b[0mn_samples\u001b[0m \u001b[1;33m=\u001b[0m \u001b[0m_num_samples\u001b[0m\u001b[1;33m(\u001b[0m\u001b[0marrays\u001b[0m\u001b[1;33m[\u001b[0m\u001b[1;36m0\u001b[0m\u001b[1;33m]\u001b[0m\u001b[1;33m)\u001b[0m\u001b[1;33m\u001b[0m\u001b[1;33m\u001b[0m\u001b[0m\n\u001b[0m\u001b[0;32m   2649\u001b[0m     n_train, n_test = _validate_shuffle_split(\n\u001b[0;32m   2650\u001b[0m         \u001b[0mn_samples\u001b[0m\u001b[1;33m,\u001b[0m \u001b[0mtest_size\u001b[0m\u001b[1;33m,\u001b[0m \u001b[0mtrain_size\u001b[0m\u001b[1;33m,\u001b[0m \u001b[0mdefault_test_size\u001b[0m\u001b[1;33m=\u001b[0m\u001b[1;36m0.25\u001b[0m\u001b[1;33m\u001b[0m\u001b[1;33m\u001b[0m\u001b[0m\n",
      "\u001b[1;32mc:\\Users\\Bennie Kibet\\anaconda3\\envs\\learn-env\\lib\\site-packages\\sklearn\\utils\\validation.py\u001b[0m in \u001b[0;36m_num_samples\u001b[1;34m(x)\u001b[0m\n\u001b[0;32m    339\u001b[0m             \u001b[0mx\u001b[0m \u001b[1;33m=\u001b[0m \u001b[0mnp\u001b[0m\u001b[1;33m.\u001b[0m\u001b[0masarray\u001b[0m\u001b[1;33m(\u001b[0m\u001b[0mx\u001b[0m\u001b[1;33m)\u001b[0m\u001b[1;33m\u001b[0m\u001b[1;33m\u001b[0m\u001b[0m\n\u001b[0;32m    340\u001b[0m         \u001b[1;32melse\u001b[0m\u001b[1;33m:\u001b[0m\u001b[1;33m\u001b[0m\u001b[1;33m\u001b[0m\u001b[0m\n\u001b[1;32m--> 341\u001b[1;33m             \u001b[1;32mraise\u001b[0m \u001b[0mTypeError\u001b[0m\u001b[1;33m(\u001b[0m\u001b[0mmessage\u001b[0m\u001b[1;33m)\u001b[0m\u001b[1;33m\u001b[0m\u001b[1;33m\u001b[0m\u001b[0m\n\u001b[0m\u001b[0;32m    342\u001b[0m \u001b[1;33m\u001b[0m\u001b[0m\n\u001b[0;32m    343\u001b[0m     \u001b[1;32mif\u001b[0m \u001b[0mhasattr\u001b[0m\u001b[1;33m(\u001b[0m\u001b[0mx\u001b[0m\u001b[1;33m,\u001b[0m \u001b[1;34m\"shape\"\u001b[0m\u001b[1;33m)\u001b[0m \u001b[1;32mand\u001b[0m \u001b[0mx\u001b[0m\u001b[1;33m.\u001b[0m\u001b[0mshape\u001b[0m \u001b[1;32mis\u001b[0m \u001b[1;32mnot\u001b[0m \u001b[1;32mNone\u001b[0m\u001b[1;33m:\u001b[0m\u001b[1;33m\u001b[0m\u001b[1;33m\u001b[0m\u001b[0m\n",
      "\u001b[1;31mTypeError\u001b[0m: Expected sequence or array-like, got <class 'NoneType'>"
     ]
    }
   ],
   "source": [
    "X1_train, X1_test, y1_train, y1_test = train_test_split(X1,y1,test_size=0.2,random_state=42)"
   ]
  },
  {
   "cell_type": "code",
   "execution_count": null,
   "metadata": {},
   "outputs": [],
   "source": []
  }
 ],
 "metadata": {
  "kernelspec": {
   "display_name": "learn-env",
   "language": "python",
   "name": "python3"
  },
  "language_info": {
   "codemirror_mode": {
    "name": "ipython",
    "version": 3
   },
   "file_extension": ".py",
   "mimetype": "text/x-python",
   "name": "python",
   "nbconvert_exporter": "python",
   "pygments_lexer": "ipython3",
   "version": "3.8.5"
  }
 },
 "nbformat": 4,
 "nbformat_minor": 2
}
