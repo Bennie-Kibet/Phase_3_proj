{
 "cells": [
  {
   "cell_type": "markdown",
   "metadata": {},
   "source": [
    "When preparing data for machine learning (ML), especially for classification tasks, there are several key steps to ensure the model performs well. Here's an overview of the main things to be done:\n",
    "\n",
    "### 1. **Data Collection**\n",
    "   - Gather relevant data from various sources (databases, APIs, etc.) to ensure it is representative of the problem you want to solve.\n",
    "\n",
    "### 2. **Data Cleaning**\n",
    "   - **Handle Missing Values**: Identify and deal with missing values (e.g., remove rows, fill with mean/median/mode, or use more advanced imputation techniques).\n",
    "   - **Remove Duplicates**: Check for and remove duplicate rows to avoid bias and overfitting.\n",
    "   - **Correct Data Errors**: Identify and correct any errors or inconsistencies in the data (e.g., outliers, incorrect entries).\n",
    "\n",
    "### 3. **Data Transformation**\n",
    "   - **Normalization/Standardization**: Scale numeric features to a standard range (e.g., 0-1 or z-scores) to help the model learn more effectively.\n",
    "   - **Encoding Categorical Variables**: Convert categorical variables into numerical form (e.g., one-hot encoding, label encoding).\n",
    "   - **Feature Engineering**: Create new features from existing data that might help the model (e.g., deriving day of the week from a date).\n",
    "   - **Dimensionality Reduction**: Reduce the number of features using techniques like PCA (Principal Component Analysis) to simplify the model and reduce overfitting.\n",
    "\n",
    "### 4. **Data Splitting**\n",
    "   - **Train-Test Split**: Divide the dataset into training and testing subsets (e.g., 70-30 or 80-20 split) to evaluate the model's performance on unseen data.\n",
    "   - **Validation Set**: Optionally, create a separate validation set to fine-tune model hyperparameters (e.g., 60-20-20 split for train-validation-test).\n",
    "\n",
    "### 5. **Feature Selection**\n",
    "   - Identify and select the most relevant features that have the highest predictive power to reduce noise and improve model performance (e.g., using correlation, feature importance scores).\n",
    "\n",
    "### 6. **Balancing the Dataset**\n",
    "   - **Handle Imbalanced Classes**: If the dataset has imbalanced classes, apply techniques such as oversampling, undersampling, or using class weights to ensure the model doesn't become biased toward the majority class.\n",
    "\n",
    "### 7. **Data Augmentation**\n",
    "   - For small datasets, artificially increase the dataset size by creating modified versions of existing data (e.g., adding noise, transformations).\n",
    "\n",
    "### 8. **Data Preprocessing Pipelines**\n",
    "   - Automate and ensure consistency by creating preprocessing pipelines using libraries like `scikit-learn` to apply these steps systematically to the training and test data.\n",
    "\n",
    "### 9. **Data Quality Checks**\n",
    "   - Perform checks to ensure data consistency and quality throughout the preprocessing steps, such as checking distributions, correlations, and anomalies.\n",
    "\n",
    "### 10. **Data Visualization and Analysis**\n",
    "   - Use visualization techniques (like histograms, scatter plots, heatmaps) to understand the data distribution, identify patterns, detect outliers, and gain insights.\n",
    "\n",
    "Would you like more detail on any of these steps?"
   ]
  },
  {
   "cell_type": "markdown",
   "metadata": {},
   "source": [
    "## Objectives\n",
    "1. To predict whether an arrest was made after a Terry Stop\n",
    "2. Arrest given information about the presence of weapons\n",
    "3. The time of day of the call"
   ]
  },
  {
   "cell_type": "markdown",
   "metadata": {},
   "source": [
    "## Data collection"
   ]
  },
  {
   "cell_type": "markdown",
   "metadata": {},
   "source": [
    "### Importing libraries"
   ]
  },
  {
   "cell_type": "code",
   "execution_count": 36,
   "metadata": {},
   "outputs": [],
   "source": [
    "import pandas as pd\n",
    "import numpy as np\n",
    "import math\n",
    "import matplotlib.pyplot as plt\n",
    "import seaborn as sns\n",
    "import statsmodels.api as sm\n",
    "from sklearn.model_selection import train_test_split\n",
    "from sklearn.preprocessing import StandardScaler\n",
    "\n"
   ]
  },
  {
   "cell_type": "markdown",
   "metadata": {},
   "source": [
    "### Data Understanding"
   ]
  },
  {
   "cell_type": "code",
   "execution_count": 37,
   "metadata": {},
   "outputs": [
    {
     "data": {
      "text/html": [
       "<div>\n",
       "<style scoped>\n",
       "    .dataframe tbody tr th:only-of-type {\n",
       "        vertical-align: middle;\n",
       "    }\n",
       "\n",
       "    .dataframe tbody tr th {\n",
       "        vertical-align: top;\n",
       "    }\n",
       "\n",
       "    .dataframe thead th {\n",
       "        text-align: right;\n",
       "    }\n",
       "</style>\n",
       "<table border=\"1\" class=\"dataframe\">\n",
       "  <thead>\n",
       "    <tr style=\"text-align: right;\">\n",
       "      <th></th>\n",
       "      <th>Subject Age Group</th>\n",
       "      <th>Subject ID</th>\n",
       "      <th>GO / SC Num</th>\n",
       "      <th>Terry Stop ID</th>\n",
       "      <th>Stop Resolution</th>\n",
       "      <th>Weapon Type</th>\n",
       "      <th>Officer ID</th>\n",
       "      <th>Officer YOB</th>\n",
       "      <th>Officer Gender</th>\n",
       "      <th>Officer Race</th>\n",
       "      <th>...</th>\n",
       "      <th>Reported Time</th>\n",
       "      <th>Initial Call Type</th>\n",
       "      <th>Final Call Type</th>\n",
       "      <th>Call Type</th>\n",
       "      <th>Officer Squad</th>\n",
       "      <th>Arrest Flag</th>\n",
       "      <th>Frisk Flag</th>\n",
       "      <th>Precinct</th>\n",
       "      <th>Sector</th>\n",
       "      <th>Beat</th>\n",
       "    </tr>\n",
       "  </thead>\n",
       "  <tbody>\n",
       "    <tr>\n",
       "      <th>0</th>\n",
       "      <td>36 - 45</td>\n",
       "      <td>-1</td>\n",
       "      <td>20160000398323</td>\n",
       "      <td>208373</td>\n",
       "      <td>Offense Report</td>\n",
       "      <td>None</td>\n",
       "      <td>4852</td>\n",
       "      <td>1953</td>\n",
       "      <td>M</td>\n",
       "      <td>Asian</td>\n",
       "      <td>...</td>\n",
       "      <td>15:18:00.0000000</td>\n",
       "      <td>TRESPASS</td>\n",
       "      <td>--SUSPICIOUS CIRCUM. - SUSPICIOUS PERSON</td>\n",
       "      <td>911</td>\n",
       "      <td>NORTH PCT 2ND W - LINCOLN - PLATOON 1</td>\n",
       "      <td>N</td>\n",
       "      <td>N</td>\n",
       "      <td>North</td>\n",
       "      <td>L</td>\n",
       "      <td>L3</td>\n",
       "    </tr>\n",
       "    <tr>\n",
       "      <th>1</th>\n",
       "      <td>18 - 25</td>\n",
       "      <td>-1</td>\n",
       "      <td>20180000227180</td>\n",
       "      <td>559146</td>\n",
       "      <td>Citation / Infraction</td>\n",
       "      <td>None</td>\n",
       "      <td>5472</td>\n",
       "      <td>1964</td>\n",
       "      <td>M</td>\n",
       "      <td>Asian</td>\n",
       "      <td>...</td>\n",
       "      <td>00:07:00.0000000</td>\n",
       "      <td>SUSPICIOUS PERSON, VEHICLE, OR INCIDENT</td>\n",
       "      <td>--TRAFFIC - BICYCLE VIOLATION</td>\n",
       "      <td>911</td>\n",
       "      <td>SOUTHWEST PCT - 3RD WATCH - F/W RELIEF</td>\n",
       "      <td>N</td>\n",
       "      <td>N</td>\n",
       "      <td>Southwest</td>\n",
       "      <td>F</td>\n",
       "      <td>F3</td>\n",
       "    </tr>\n",
       "    <tr>\n",
       "      <th>2</th>\n",
       "      <td>18 - 25</td>\n",
       "      <td>-1</td>\n",
       "      <td>20180000410091</td>\n",
       "      <td>498246</td>\n",
       "      <td>Offense Report</td>\n",
       "      <td>None</td>\n",
       "      <td>6081</td>\n",
       "      <td>1962</td>\n",
       "      <td>M</td>\n",
       "      <td>White</td>\n",
       "      <td>...</td>\n",
       "      <td>02:56:00.0000000</td>\n",
       "      <td>NARCOTICS - VIOLATIONS (LOITER, USE, SELL, NARS)</td>\n",
       "      <td>--SUSPICIOUS CIRCUM. - SUSPICIOUS PERSON</td>\n",
       "      <td>911</td>\n",
       "      <td>NORTH PCT 3RD W - BOY (JOHN) - PLATOON 1</td>\n",
       "      <td>N</td>\n",
       "      <td>N</td>\n",
       "      <td>North</td>\n",
       "      <td>B</td>\n",
       "      <td>B1</td>\n",
       "    </tr>\n",
       "    <tr>\n",
       "      <th>3</th>\n",
       "      <td>-</td>\n",
       "      <td>-1</td>\n",
       "      <td>20160000001637</td>\n",
       "      <td>146742</td>\n",
       "      <td>Field Contact</td>\n",
       "      <td>None</td>\n",
       "      <td>6924</td>\n",
       "      <td>1974</td>\n",
       "      <td>M</td>\n",
       "      <td>White</td>\n",
       "      <td>...</td>\n",
       "      <td>01:44:00.0000000</td>\n",
       "      <td>-</td>\n",
       "      <td>-</td>\n",
       "      <td>-</td>\n",
       "      <td>EAST PCT OPS - NIGHT ACT</td>\n",
       "      <td>N</td>\n",
       "      <td>N</td>\n",
       "      <td>East</td>\n",
       "      <td>C</td>\n",
       "      <td>C1</td>\n",
       "    </tr>\n",
       "    <tr>\n",
       "      <th>4</th>\n",
       "      <td>46 - 55</td>\n",
       "      <td>-1</td>\n",
       "      <td>20150000006037</td>\n",
       "      <td>104477</td>\n",
       "      <td>Field Contact</td>\n",
       "      <td>None</td>\n",
       "      <td>6732</td>\n",
       "      <td>1975</td>\n",
       "      <td>M</td>\n",
       "      <td>White</td>\n",
       "      <td>...</td>\n",
       "      <td>02:59:00.0000000</td>\n",
       "      <td>-</td>\n",
       "      <td>-</td>\n",
       "      <td>-</td>\n",
       "      <td>SOUTH PCT 3RD W - SAM - PLATOON 2</td>\n",
       "      <td>N</td>\n",
       "      <td>N</td>\n",
       "      <td>North</td>\n",
       "      <td>B</td>\n",
       "      <td>B2</td>\n",
       "    </tr>\n",
       "  </tbody>\n",
       "</table>\n",
       "<p>5 rows × 23 columns</p>\n",
       "</div>"
      ],
      "text/plain": [
       "  Subject Age Group  Subject ID     GO / SC Num  Terry Stop ID  \\\n",
       "0           36 - 45          -1  20160000398323         208373   \n",
       "1           18 - 25          -1  20180000227180         559146   \n",
       "2           18 - 25          -1  20180000410091         498246   \n",
       "3                 -          -1  20160000001637         146742   \n",
       "4           46 - 55          -1  20150000006037         104477   \n",
       "\n",
       "         Stop Resolution Weapon Type Officer ID  Officer YOB Officer Gender  \\\n",
       "0         Offense Report        None       4852         1953              M   \n",
       "1  Citation / Infraction        None       5472         1964              M   \n",
       "2         Offense Report        None       6081         1962              M   \n",
       "3          Field Contact        None       6924         1974              M   \n",
       "4          Field Contact        None       6732         1975              M   \n",
       "\n",
       "  Officer Race  ...     Reported Time  \\\n",
       "0        Asian  ...  15:18:00.0000000   \n",
       "1        Asian  ...  00:07:00.0000000   \n",
       "2        White  ...  02:56:00.0000000   \n",
       "3        White  ...  01:44:00.0000000   \n",
       "4        White  ...  02:59:00.0000000   \n",
       "\n",
       "                                  Initial Call Type  \\\n",
       "0                                          TRESPASS   \n",
       "1           SUSPICIOUS PERSON, VEHICLE, OR INCIDENT   \n",
       "2  NARCOTICS - VIOLATIONS (LOITER, USE, SELL, NARS)   \n",
       "3                                                 -   \n",
       "4                                                 -   \n",
       "\n",
       "                            Final Call Type Call Type  \\\n",
       "0  --SUSPICIOUS CIRCUM. - SUSPICIOUS PERSON       911   \n",
       "1             --TRAFFIC - BICYCLE VIOLATION       911   \n",
       "2  --SUSPICIOUS CIRCUM. - SUSPICIOUS PERSON       911   \n",
       "3                                         -         -   \n",
       "4                                         -         -   \n",
       "\n",
       "                              Officer Squad Arrest Flag Frisk Flag   Precinct  \\\n",
       "0     NORTH PCT 2ND W - LINCOLN - PLATOON 1           N          N      North   \n",
       "1    SOUTHWEST PCT - 3RD WATCH - F/W RELIEF           N          N  Southwest   \n",
       "2  NORTH PCT 3RD W - BOY (JOHN) - PLATOON 1           N          N      North   \n",
       "3                  EAST PCT OPS - NIGHT ACT           N          N       East   \n",
       "4         SOUTH PCT 3RD W - SAM - PLATOON 2           N          N      North   \n",
       "\n",
       "  Sector Beat  \n",
       "0      L   L3  \n",
       "1      F   F3  \n",
       "2      B   B1  \n",
       "3      C   C1  \n",
       "4      B   B2  \n",
       "\n",
       "[5 rows x 23 columns]"
      ]
     },
     "execution_count": 37,
     "metadata": {},
     "output_type": "execute_result"
    }
   ],
   "source": [
    "data = pd.read_csv('Terry_Stops_20240825.csv')\n",
    "data.head()"
   ]
  },
  {
   "cell_type": "code",
   "execution_count": 38,
   "metadata": {},
   "outputs": [
    {
     "data": {
      "text/plain": [
       "Index(['Subject Age Group', 'Subject ID', 'GO / SC Num', 'Terry Stop ID',\n",
       "       'Stop Resolution', 'Weapon Type', 'Officer ID', 'Officer YOB',\n",
       "       'Officer Gender', 'Officer Race', 'Subject Perceived Race',\n",
       "       'Subject Perceived Gender', 'Reported Date', 'Reported Time',\n",
       "       'Initial Call Type', 'Final Call Type', 'Call Type', 'Officer Squad',\n",
       "       'Arrest Flag', 'Frisk Flag', 'Precinct', 'Sector', 'Beat'],\n",
       "      dtype='object')"
      ]
     },
     "execution_count": 38,
     "metadata": {},
     "output_type": "execute_result"
    }
   ],
   "source": [
    "data.columns"
   ]
  },
  {
   "cell_type": "code",
   "execution_count": 39,
   "metadata": {},
   "outputs": [
    {
     "name": "stdout",
     "output_type": "stream",
     "text": [
      "Number of rows = 61009\n",
      "Number of columns = 23\n"
     ]
    }
   ],
   "source": [
    "#checking data  shape\n",
    "data.shape\n",
    "print('Number of rows =', data.shape[0])\n",
    "print('Number of columns =', data.shape[1])"
   ]
  },
  {
   "cell_type": "code",
   "execution_count": 40,
   "metadata": {},
   "outputs": [
    {
     "name": "stdout",
     "output_type": "stream",
     "text": [
      "<class 'pandas.core.frame.DataFrame'>\n",
      "RangeIndex: 61009 entries, 0 to 61008\n",
      "Data columns (total 23 columns):\n",
      " #   Column                    Non-Null Count  Dtype \n",
      "---  ------                    --------------  ----- \n",
      " 0   Subject Age Group         61009 non-null  object\n",
      " 1   Subject ID                61009 non-null  int64 \n",
      " 2   GO / SC Num               61009 non-null  int64 \n",
      " 3   Terry Stop ID             61009 non-null  int64 \n",
      " 4   Stop Resolution           61009 non-null  object\n",
      " 5   Weapon Type               61009 non-null  object\n",
      " 6   Officer ID                61009 non-null  object\n",
      " 7   Officer YOB               61009 non-null  int64 \n",
      " 8   Officer Gender            61009 non-null  object\n",
      " 9   Officer Race              61009 non-null  object\n",
      " 10  Subject Perceived Race    61009 non-null  object\n",
      " 11  Subject Perceived Gender  61009 non-null  object\n",
      " 12  Reported Date             61009 non-null  object\n",
      " 13  Reported Time             61009 non-null  object\n",
      " 14  Initial Call Type         61009 non-null  object\n",
      " 15  Final Call Type           61009 non-null  object\n",
      " 16  Call Type                 61009 non-null  object\n",
      " 17  Officer Squad             60448 non-null  object\n",
      " 18  Arrest Flag               61009 non-null  object\n",
      " 19  Frisk Flag                61009 non-null  object\n",
      " 20  Precinct                  61009 non-null  object\n",
      " 21  Sector                    61009 non-null  object\n",
      " 22  Beat                      61009 non-null  object\n",
      "dtypes: int64(4), object(19)\n",
      "memory usage: 10.7+ MB\n"
     ]
    }
   ],
   "source": [
    "data.info()"
   ]
  },
  {
   "cell_type": "code",
   "execution_count": 41,
   "metadata": {},
   "outputs": [
    {
     "data": {
      "text/html": [
       "<div>\n",
       "<style scoped>\n",
       "    .dataframe tbody tr th:only-of-type {\n",
       "        vertical-align: middle;\n",
       "    }\n",
       "\n",
       "    .dataframe tbody tr th {\n",
       "        vertical-align: top;\n",
       "    }\n",
       "\n",
       "    .dataframe thead th {\n",
       "        text-align: right;\n",
       "    }\n",
       "</style>\n",
       "<table border=\"1\" class=\"dataframe\">\n",
       "  <thead>\n",
       "    <tr style=\"text-align: right;\">\n",
       "      <th></th>\n",
       "      <th>Subject ID</th>\n",
       "      <th>GO / SC Num</th>\n",
       "      <th>Terry Stop ID</th>\n",
       "      <th>Officer YOB</th>\n",
       "    </tr>\n",
       "  </thead>\n",
       "  <tbody>\n",
       "    <tr>\n",
       "      <th>count</th>\n",
       "      <td>6.100900e+04</td>\n",
       "      <td>6.100900e+04</td>\n",
       "      <td>6.100900e+04</td>\n",
       "      <td>61009.000000</td>\n",
       "    </tr>\n",
       "    <tr>\n",
       "      <th>mean</th>\n",
       "      <td>7.277955e+09</td>\n",
       "      <td>2.018664e+13</td>\n",
       "      <td>1.216705e+10</td>\n",
       "      <td>1984.080513</td>\n",
       "    </tr>\n",
       "    <tr>\n",
       "      <th>std</th>\n",
       "      <td>1.271113e+10</td>\n",
       "      <td>8.573215e+10</td>\n",
       "      <td>1.753104e+10</td>\n",
       "      <td>9.471954</td>\n",
       "    </tr>\n",
       "    <tr>\n",
       "      <th>min</th>\n",
       "      <td>-8.000000e+00</td>\n",
       "      <td>-1.000000e+00</td>\n",
       "      <td>2.802000e+04</td>\n",
       "      <td>1900.000000</td>\n",
       "    </tr>\n",
       "    <tr>\n",
       "      <th>25%</th>\n",
       "      <td>-1.000000e+00</td>\n",
       "      <td>2.017000e+13</td>\n",
       "      <td>2.390790e+05</td>\n",
       "      <td>1979.000000</td>\n",
       "    </tr>\n",
       "    <tr>\n",
       "      <th>50%</th>\n",
       "      <td>-1.000000e+00</td>\n",
       "      <td>2.018000e+13</td>\n",
       "      <td>5.091710e+05</td>\n",
       "      <td>1986.000000</td>\n",
       "    </tr>\n",
       "    <tr>\n",
       "      <th>75%</th>\n",
       "      <td>7.752706e+09</td>\n",
       "      <td>2.021000e+13</td>\n",
       "      <td>1.972319e+10</td>\n",
       "      <td>1991.000000</td>\n",
       "    </tr>\n",
       "    <tr>\n",
       "      <th>max</th>\n",
       "      <td>5.850979e+10</td>\n",
       "      <td>2.024000e+13</td>\n",
       "      <td>5.850978e+10</td>\n",
       "      <td>2002.000000</td>\n",
       "    </tr>\n",
       "  </tbody>\n",
       "</table>\n",
       "</div>"
      ],
      "text/plain": [
       "         Subject ID   GO / SC Num  Terry Stop ID   Officer YOB\n",
       "count  6.100900e+04  6.100900e+04   6.100900e+04  61009.000000\n",
       "mean   7.277955e+09  2.018664e+13   1.216705e+10   1984.080513\n",
       "std    1.271113e+10  8.573215e+10   1.753104e+10      9.471954\n",
       "min   -8.000000e+00 -1.000000e+00   2.802000e+04   1900.000000\n",
       "25%   -1.000000e+00  2.017000e+13   2.390790e+05   1979.000000\n",
       "50%   -1.000000e+00  2.018000e+13   5.091710e+05   1986.000000\n",
       "75%    7.752706e+09  2.021000e+13   1.972319e+10   1991.000000\n",
       "max    5.850979e+10  2.024000e+13   5.850978e+10   2002.000000"
      ]
     },
     "execution_count": 41,
     "metadata": {},
     "output_type": "execute_result"
    }
   ],
   "source": [
    "data.describe()"
   ]
  },
  {
   "cell_type": "markdown",
   "metadata": {},
   "source": [
    "## Checking for null values"
   ]
  },
  {
   "cell_type": "code",
   "execution_count": 42,
   "metadata": {},
   "outputs": [
    {
     "data": {
      "text/plain": [
       "Subject Age Group             0\n",
       "Subject ID                    0\n",
       "GO / SC Num                   0\n",
       "Terry Stop ID                 0\n",
       "Stop Resolution               0\n",
       "Weapon Type                   0\n",
       "Officer ID                    0\n",
       "Officer YOB                   0\n",
       "Officer Gender                0\n",
       "Officer Race                  0\n",
       "Subject Perceived Race        0\n",
       "Subject Perceived Gender      0\n",
       "Reported Date                 0\n",
       "Reported Time                 0\n",
       "Initial Call Type             0\n",
       "Final Call Type               0\n",
       "Call Type                     0\n",
       "Officer Squad               561\n",
       "Arrest Flag                   0\n",
       "Frisk Flag                    0\n",
       "Precinct                      0\n",
       "Sector                        0\n",
       "Beat                          0\n",
       "dtype: int64"
      ]
     },
     "execution_count": 42,
     "metadata": {},
     "output_type": "execute_result"
    }
   ],
   "source": [
    "data.isna().sum()"
   ]
  },
  {
   "cell_type": "markdown",
   "metadata": {},
   "source": [
    "The dataset contains a significant number of NaN values relative to its size (61,009 entries).\n",
    "\n",
    "    The output indicates the count of missing values (NaN or null values) for each column in the dataset:\n",
    "\n",
    "    officer squad has 561 missing values."
   ]
  },
  {
   "cell_type": "code",
   "execution_count": 43,
   "metadata": {},
   "outputs": [],
   "source": [
    "def missing_data(df, column):\n",
    "    length_of_df=len(df)                                                    \n",
    "    missing_data= column.isna().sum()                                       \n",
    "    percentage_of_missing_data = round((missing_data/length_of_df*100),2)   \n",
    "    return print(f\"Percentage of Missing Data: {percentage_of_missing_data}\"\"%\")"
   ]
  },
  {
   "cell_type": "code",
   "execution_count": 44,
   "metadata": {},
   "outputs": [
    {
     "name": "stdout",
     "output_type": "stream",
     "text": [
      "Percentage of Missing Data: 0.92%\n"
     ]
    }
   ],
   "source": [
    "missing_data(data,data['Officer Squad'])"
   ]
  },
  {
   "cell_type": "code",
   "execution_count": 45,
   "metadata": {},
   "outputs": [],
   "source": [
    "# Function to replace nulls in officer squad column with the mode of officer squad for the same precinct\n",
    "def replace_null_with_mode(df, target_col, group_col):\n",
    "    # Iterating through the rows with null values in the target column\n",
    "    for index, row in df[df[target_col].isnull()].iterrows():\n",
    "        # Getting the corresponding group value (zipcode)\n",
    "        group_value = row[group_col]\n",
    "        # Filtering the DataFrame to include only rows with the same group value and non-null target values\n",
    "        filtered_df = df[(df[group_col] == group_value) & df[target_col].notnull()]\n",
    "        # Getting the mode of the target column in the filtered DataFrame\n",
    "        mode_value = filtered_df[target_col].mode()\n",
    "        # Checking if mode_value is not empty\n",
    "        if not mode_value.empty:\n",
    "            # Replacing the null value with the mode value\n",
    "            df.at[index, target_col] = mode_value[0]\n",
    "    return df\n",
    "\n",
    "# Replacing nulls in officer squad with the mode of officer squad for the same precinct\n",
    "data = replace_null_with_mode(data, 'Officer Squad', 'Precinct')\n"
   ]
  },
  {
   "cell_type": "code",
   "execution_count": 46,
   "metadata": {},
   "outputs": [
    {
     "data": {
      "text/plain": [
       "Subject Age Group           0\n",
       "Subject ID                  0\n",
       "GO / SC Num                 0\n",
       "Terry Stop ID               0\n",
       "Stop Resolution             0\n",
       "Weapon Type                 0\n",
       "Officer ID                  0\n",
       "Officer YOB                 0\n",
       "Officer Gender              0\n",
       "Officer Race                0\n",
       "Subject Perceived Race      0\n",
       "Subject Perceived Gender    0\n",
       "Reported Date               0\n",
       "Reported Time               0\n",
       "Initial Call Type           0\n",
       "Final Call Type             0\n",
       "Call Type                   0\n",
       "Officer Squad               0\n",
       "Arrest Flag                 0\n",
       "Frisk Flag                  0\n",
       "Precinct                    0\n",
       "Sector                      0\n",
       "Beat                        0\n",
       "dtype: int64"
      ]
     },
     "execution_count": 46,
     "metadata": {},
     "output_type": "execute_result"
    }
   ],
   "source": [
    "data.isna().sum()"
   ]
  },
  {
   "cell_type": "markdown",
   "metadata": {},
   "source": [
    "### Checking for duplicates"
   ]
  },
  {
   "cell_type": "code",
   "execution_count": 47,
   "metadata": {},
   "outputs": [
    {
     "data": {
      "text/plain": [
       "0"
      ]
     },
     "execution_count": 47,
     "metadata": {},
     "output_type": "execute_result"
    }
   ],
   "source": [
    "data.duplicated().sum()"
   ]
  },
  {
   "cell_type": "code",
   "execution_count": 48,
   "metadata": {},
   "outputs": [
    {
     "data": {
      "text/plain": [
       "None                                    32565\n",
       "-                                       24571\n",
       "Lethal Cutting Instrument                1482\n",
       "Knife/Cutting/Stabbing Instrument        1333\n",
       "Handgun                                   395\n",
       "Blunt Object/Striking Implement           176\n",
       "Firearm                                   109\n",
       "Firearm Other                             100\n",
       "Other Firearm                              76\n",
       "Mace/Pepper Spray                          56\n",
       "Club, Blackjack, Brass Knuckles            49\n",
       "Taser/Stun Gun                             18\n",
       "None/Not Applicable                        18\n",
       "Firearm (unk type)                         15\n",
       "Fire/Incendiary Device                     13\n",
       "Rifle                                      11\n",
       "Club                                        9\n",
       "Shotgun                                     6\n",
       "Automatic Handgun                           2\n",
       "Personal Weapons (hands, feet, etc.)        2\n",
       "Brass Knuckles                              1\n",
       "Blackjack                                   1\n",
       "Poison                                      1\n",
       "Name: Weapon Type, dtype: int64"
      ]
     },
     "execution_count": 48,
     "metadata": {},
     "output_type": "execute_result"
    }
   ],
   "source": [
    "data['Weapon Type'].value_counts()"
   ]
  },
  {
   "cell_type": "code",
   "execution_count": 57,
   "metadata": {},
   "outputs": [],
   "source": [
    "data['Weapon Type'].replace(to_replace=['None', '-'], value=[0, 0], inplace=True)"
   ]
  },
  {
   "cell_type": "code",
   "execution_count": 58,
   "metadata": {},
   "outputs": [
    {
     "data": {
      "text/plain": [
       "0                                       57136\n",
       "Lethal Cutting Instrument                1482\n",
       "Knife/Cutting/Stabbing Instrument        1333\n",
       "Handgun                                   395\n",
       "Blunt Object/Striking Implement           176\n",
       "Firearm                                   109\n",
       "Firearm Other                             100\n",
       "Other Firearm                              76\n",
       "Mace/Pepper Spray                          56\n",
       "Club, Blackjack, Brass Knuckles            49\n",
       "Taser/Stun Gun                             18\n",
       "None/Not Applicable                        18\n",
       "Firearm (unk type)                         15\n",
       "Fire/Incendiary Device                     13\n",
       "Rifle                                      11\n",
       "Club                                        9\n",
       "Shotgun                                     6\n",
       "Automatic Handgun                           2\n",
       "Personal Weapons (hands, feet, etc.)        2\n",
       "Brass Knuckles                              1\n",
       "Blackjack                                   1\n",
       "Poison                                      1\n",
       "Name: Weapon Type, dtype: int64"
      ]
     },
     "execution_count": 58,
     "metadata": {},
     "output_type": "execute_result"
    }
   ],
   "source": [
    "data['Weapon Type'].value_counts()"
   ]
  },
  {
   "cell_type": "code",
   "execution_count": 49,
   "metadata": {},
   "outputs": [
    {
     "data": {
      "text/plain": [
       "-                                                 13477\n",
       "--SUSPICIOUS CIRCUM. - SUSPICIOUS PERSON           5630\n",
       "--PROWLER - TRESPASS                               4309\n",
       "--DISTURBANCE - OTHER                              3640\n",
       "--ASSAULTS, OTHER                                  3058\n",
       "                                                  ...  \n",
       "TRAFFIC - MOVING VIOLATION                            1\n",
       "CARJACKING - IP/JO - ROBBERY                          1\n",
       "ASLT - CRITICAL (NO SHOOTINGS)                        1\n",
       "BURG - OCCUPIED RESD                                  1\n",
       "OBS - AUTO THEFT-IP/JO - VEHICLE, PLATES, TABS        1\n",
       "Name: Final Call Type, Length: 196, dtype: int64"
      ]
     },
     "execution_count": 49,
     "metadata": {},
     "output_type": "execute_result"
    }
   ],
   "source": [
    "data['Final Call Type'].value_counts()"
   ]
  },
  {
   "cell_type": "code",
   "execution_count": 50,
   "metadata": {},
   "outputs": [
    {
     "data": {
      "text/plain": [
       "N    45931\n",
       "Y    14600\n",
       "-      478\n",
       "Name: Frisk Flag, dtype: int64"
      ]
     },
     "execution_count": 50,
     "metadata": {},
     "output_type": "execute_result"
    }
   ],
   "source": [
    "data['Frisk Flag'].value_counts()"
   ]
  },
  {
   "cell_type": "code",
   "execution_count": 51,
   "metadata": {},
   "outputs": [],
   "source": [
    "data['Frisk Flag'].replace(to_replace=['N', '-', 'Y'], value=[0, 0, 1], inplace=True)"
   ]
  },
  {
   "cell_type": "code",
   "execution_count": 52,
   "metadata": {},
   "outputs": [
    {
     "data": {
      "text/plain": [
       "0    46409\n",
       "1    14600\n",
       "Name: Frisk Flag, dtype: int64"
      ]
     },
     "execution_count": 52,
     "metadata": {},
     "output_type": "execute_result"
    }
   ],
   "source": [
    "data['Frisk Flag'].value_counts()"
   ]
  },
  {
   "cell_type": "markdown",
   "metadata": {},
   "source": [
    "In this case 1 shows whether a frisk was done while 0 is that none was done."
   ]
  },
  {
   "cell_type": "code",
   "execution_count": null,
   "metadata": {},
   "outputs": [],
   "source": []
  },
  {
   "cell_type": "code",
   "execution_count": null,
   "metadata": {},
   "outputs": [],
   "source": []
  }
 ],
 "metadata": {
  "kernelspec": {
   "display_name": "learn-env",
   "language": "python",
   "name": "python3"
  },
  "language_info": {
   "codemirror_mode": {
    "name": "ipython",
    "version": 3
   },
   "file_extension": ".py",
   "mimetype": "text/x-python",
   "name": "python",
   "nbconvert_exporter": "python",
   "pygments_lexer": "ipython3",
   "version": "3.8.5"
  }
 },
 "nbformat": 4,
 "nbformat_minor": 2
}
