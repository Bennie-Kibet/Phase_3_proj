{
 "cells": [
  {
   "cell_type": "markdown",
   "metadata": {},
   "source": [
    "# Name: Bennie Kibet\n",
    "# Project :Terry Stops Analysis\n",
    "\n",
    "## Business Understanding\n",
    "## Overview:\n",
    "\n",
    "In Terry v. Ohio, a landmark Supreme Court case in 1967-8, the court found that a police officer was not in violation of the \"unreasonable search and seizure\" clause of the Fourth Amendment, even though he stopped and frisked a couple of suspects only because their behavior was suspicious. Thus was born the notion of \"reasonable suspicion\", according to which an agent of the police may e.g. temporarily detain a person, even in the absence of clearer evidence that would be required for full-blown arrests etc. Terry Stops are stops made of suspicious drivers.\n",
    "\n",
    "Therefore, to help the public department make reasonable judgements when prosecuting such cases they would like to have a model that identifies such cases to plan on how to deal with them.\n",
    "\n",
    "\n",
    "## Problem Statement:\n",
    "\n",
    "To identify whether arrests made after a Terry Stop, has undergone the procedure of being stopped on suspicious behaviour and frisked, or if other factors play a role in the arrest.\n",
    "\n",
    "## Metrics:\n",
    "\n",
    "The effectiveness of Terry Stops' predictive models will be evaluated based on the accuracy score. This metric measures the proportion of correctly predicted instances among all instances, providing insight into how well the models can predict arrest occuring after a Terry Stop. A higher accuracy score indicates that the models are more reliable in identifying the arrests made due to Terry Stops.\n",
    "\n",
    "## Objectives\n",
    "1. To predict whether an arrest was made after a Terry Stop\n",
    "2. Arrest given information about the presence of weapons\n",
    "3. The time of day of the call"
   ]
  },
  {
   "cell_type": "markdown",
   "metadata": {},
   "source": [
    "## Data collection"
   ]
  },
  {
   "cell_type": "markdown",
   "metadata": {},
   "source": [
    "### Importing libraries"
   ]
  },
  {
   "cell_type": "code",
   "execution_count": 3,
   "metadata": {},
   "outputs": [],
   "source": [
    "# import relevant libraries\n",
    "import pandas as pd \n",
    "import numpy as np \n",
    "import matplotlib.pyplot as plt \n",
    "%matplotlib inline\n",
    "import seaborn as sns \n",
    "from sklearn.preprocessing import LabelEncoder\n",
    "from sklearn.model_selection import train_test_split, cross_val_score\n",
    "from sklearn.preprocessing import OneHotEncoder\n",
    "from sklearn.metrics import roc_auc_score, ConfusionMatrixDisplay, classification_report, accuracy_score, confusion_matrix, roc_curve\n",
    "from sklearn.preprocessing import StandardScaler\n",
    "from imblearn.over_sampling import SMOTE\n",
    "from sklearn.linear_model import LogisticRegression\n",
    "from sklearn.tree import DecisionTreeClassifier\n",
    "from sklearn.ensemble import RandomForestClassifier\n",
    "from sklearn.model_selection import GridSearchCV \n",
    "from sklearn.feature_selection import SelectFromModel \n",
    "from sklearn.linear_model import LogisticRegressionCV\n",
    "import math\n"
   ]
  },
  {
   "cell_type": "markdown",
   "metadata": {},
   "source": [
    "### Data Understanding"
   ]
  },
  {
   "cell_type": "code",
   "execution_count": 4,
   "metadata": {},
   "outputs": [
    {
     "data": {
      "text/html": [
       "<div>\n",
       "<style scoped>\n",
       "    .dataframe tbody tr th:only-of-type {\n",
       "        vertical-align: middle;\n",
       "    }\n",
       "\n",
       "    .dataframe tbody tr th {\n",
       "        vertical-align: top;\n",
       "    }\n",
       "\n",
       "    .dataframe thead th {\n",
       "        text-align: right;\n",
       "    }\n",
       "</style>\n",
       "<table border=\"1\" class=\"dataframe\">\n",
       "  <thead>\n",
       "    <tr style=\"text-align: right;\">\n",
       "      <th></th>\n",
       "      <th>Subject Age Group</th>\n",
       "      <th>Subject ID</th>\n",
       "      <th>GO / SC Num</th>\n",
       "      <th>Terry Stop ID</th>\n",
       "      <th>Stop Resolution</th>\n",
       "      <th>Weapon Type</th>\n",
       "      <th>Officer ID</th>\n",
       "      <th>Officer YOB</th>\n",
       "      <th>Officer Gender</th>\n",
       "      <th>Officer Race</th>\n",
       "      <th>...</th>\n",
       "      <th>Reported Time</th>\n",
       "      <th>Initial Call Type</th>\n",
       "      <th>Final Call Type</th>\n",
       "      <th>Call Type</th>\n",
       "      <th>Officer Squad</th>\n",
       "      <th>Arrest Flag</th>\n",
       "      <th>Frisk Flag</th>\n",
       "      <th>Precinct</th>\n",
       "      <th>Sector</th>\n",
       "      <th>Beat</th>\n",
       "    </tr>\n",
       "  </thead>\n",
       "  <tbody>\n",
       "    <tr>\n",
       "      <th>0</th>\n",
       "      <td>36 - 45</td>\n",
       "      <td>-1</td>\n",
       "      <td>20160000398323</td>\n",
       "      <td>208373</td>\n",
       "      <td>Offense Report</td>\n",
       "      <td>None</td>\n",
       "      <td>4852</td>\n",
       "      <td>1953</td>\n",
       "      <td>M</td>\n",
       "      <td>Asian</td>\n",
       "      <td>...</td>\n",
       "      <td>15:18:00.0000000</td>\n",
       "      <td>TRESPASS</td>\n",
       "      <td>--SUSPICIOUS CIRCUM. - SUSPICIOUS PERSON</td>\n",
       "      <td>911</td>\n",
       "      <td>NORTH PCT 2ND W - LINCOLN - PLATOON 1</td>\n",
       "      <td>N</td>\n",
       "      <td>N</td>\n",
       "      <td>North</td>\n",
       "      <td>L</td>\n",
       "      <td>L3</td>\n",
       "    </tr>\n",
       "    <tr>\n",
       "      <th>1</th>\n",
       "      <td>18 - 25</td>\n",
       "      <td>-1</td>\n",
       "      <td>20180000227180</td>\n",
       "      <td>559146</td>\n",
       "      <td>Citation / Infraction</td>\n",
       "      <td>None</td>\n",
       "      <td>5472</td>\n",
       "      <td>1964</td>\n",
       "      <td>M</td>\n",
       "      <td>Asian</td>\n",
       "      <td>...</td>\n",
       "      <td>00:07:00.0000000</td>\n",
       "      <td>SUSPICIOUS PERSON, VEHICLE, OR INCIDENT</td>\n",
       "      <td>--TRAFFIC - BICYCLE VIOLATION</td>\n",
       "      <td>911</td>\n",
       "      <td>SOUTHWEST PCT - 3RD WATCH - F/W RELIEF</td>\n",
       "      <td>N</td>\n",
       "      <td>N</td>\n",
       "      <td>Southwest</td>\n",
       "      <td>F</td>\n",
       "      <td>F3</td>\n",
       "    </tr>\n",
       "    <tr>\n",
       "      <th>2</th>\n",
       "      <td>18 - 25</td>\n",
       "      <td>-1</td>\n",
       "      <td>20180000410091</td>\n",
       "      <td>498246</td>\n",
       "      <td>Offense Report</td>\n",
       "      <td>None</td>\n",
       "      <td>6081</td>\n",
       "      <td>1962</td>\n",
       "      <td>M</td>\n",
       "      <td>White</td>\n",
       "      <td>...</td>\n",
       "      <td>02:56:00.0000000</td>\n",
       "      <td>NARCOTICS - VIOLATIONS (LOITER, USE, SELL, NARS)</td>\n",
       "      <td>--SUSPICIOUS CIRCUM. - SUSPICIOUS PERSON</td>\n",
       "      <td>911</td>\n",
       "      <td>NORTH PCT 3RD W - BOY (JOHN) - PLATOON 1</td>\n",
       "      <td>N</td>\n",
       "      <td>N</td>\n",
       "      <td>North</td>\n",
       "      <td>B</td>\n",
       "      <td>B1</td>\n",
       "    </tr>\n",
       "    <tr>\n",
       "      <th>3</th>\n",
       "      <td>-</td>\n",
       "      <td>-1</td>\n",
       "      <td>20160000001637</td>\n",
       "      <td>146742</td>\n",
       "      <td>Field Contact</td>\n",
       "      <td>None</td>\n",
       "      <td>6924</td>\n",
       "      <td>1974</td>\n",
       "      <td>M</td>\n",
       "      <td>White</td>\n",
       "      <td>...</td>\n",
       "      <td>01:44:00.0000000</td>\n",
       "      <td>-</td>\n",
       "      <td>-</td>\n",
       "      <td>-</td>\n",
       "      <td>EAST PCT OPS - NIGHT ACT</td>\n",
       "      <td>N</td>\n",
       "      <td>N</td>\n",
       "      <td>East</td>\n",
       "      <td>C</td>\n",
       "      <td>C1</td>\n",
       "    </tr>\n",
       "    <tr>\n",
       "      <th>4</th>\n",
       "      <td>46 - 55</td>\n",
       "      <td>-1</td>\n",
       "      <td>20150000006037</td>\n",
       "      <td>104477</td>\n",
       "      <td>Field Contact</td>\n",
       "      <td>None</td>\n",
       "      <td>6732</td>\n",
       "      <td>1975</td>\n",
       "      <td>M</td>\n",
       "      <td>White</td>\n",
       "      <td>...</td>\n",
       "      <td>02:59:00.0000000</td>\n",
       "      <td>-</td>\n",
       "      <td>-</td>\n",
       "      <td>-</td>\n",
       "      <td>SOUTH PCT 3RD W - SAM - PLATOON 2</td>\n",
       "      <td>N</td>\n",
       "      <td>N</td>\n",
       "      <td>North</td>\n",
       "      <td>B</td>\n",
       "      <td>B2</td>\n",
       "    </tr>\n",
       "  </tbody>\n",
       "</table>\n",
       "<p>5 rows × 23 columns</p>\n",
       "</div>"
      ],
      "text/plain": [
       "  Subject Age Group  Subject ID     GO / SC Num  Terry Stop ID  \\\n",
       "0           36 - 45          -1  20160000398323         208373   \n",
       "1           18 - 25          -1  20180000227180         559146   \n",
       "2           18 - 25          -1  20180000410091         498246   \n",
       "3                 -          -1  20160000001637         146742   \n",
       "4           46 - 55          -1  20150000006037         104477   \n",
       "\n",
       "         Stop Resolution Weapon Type Officer ID  Officer YOB Officer Gender  \\\n",
       "0         Offense Report        None       4852         1953              M   \n",
       "1  Citation / Infraction        None       5472         1964              M   \n",
       "2         Offense Report        None       6081         1962              M   \n",
       "3          Field Contact        None       6924         1974              M   \n",
       "4          Field Contact        None       6732         1975              M   \n",
       "\n",
       "  Officer Race  ...     Reported Time  \\\n",
       "0        Asian  ...  15:18:00.0000000   \n",
       "1        Asian  ...  00:07:00.0000000   \n",
       "2        White  ...  02:56:00.0000000   \n",
       "3        White  ...  01:44:00.0000000   \n",
       "4        White  ...  02:59:00.0000000   \n",
       "\n",
       "                                  Initial Call Type  \\\n",
       "0                                          TRESPASS   \n",
       "1           SUSPICIOUS PERSON, VEHICLE, OR INCIDENT   \n",
       "2  NARCOTICS - VIOLATIONS (LOITER, USE, SELL, NARS)   \n",
       "3                                                 -   \n",
       "4                                                 -   \n",
       "\n",
       "                            Final Call Type Call Type  \\\n",
       "0  --SUSPICIOUS CIRCUM. - SUSPICIOUS PERSON       911   \n",
       "1             --TRAFFIC - BICYCLE VIOLATION       911   \n",
       "2  --SUSPICIOUS CIRCUM. - SUSPICIOUS PERSON       911   \n",
       "3                                         -         -   \n",
       "4                                         -         -   \n",
       "\n",
       "                              Officer Squad Arrest Flag Frisk Flag   Precinct  \\\n",
       "0     NORTH PCT 2ND W - LINCOLN - PLATOON 1           N          N      North   \n",
       "1    SOUTHWEST PCT - 3RD WATCH - F/W RELIEF           N          N  Southwest   \n",
       "2  NORTH PCT 3RD W - BOY (JOHN) - PLATOON 1           N          N      North   \n",
       "3                  EAST PCT OPS - NIGHT ACT           N          N       East   \n",
       "4         SOUTH PCT 3RD W - SAM - PLATOON 2           N          N      North   \n",
       "\n",
       "  Sector Beat  \n",
       "0      L   L3  \n",
       "1      F   F3  \n",
       "2      B   B1  \n",
       "3      C   C1  \n",
       "4      B   B2  \n",
       "\n",
       "[5 rows x 23 columns]"
      ]
     },
     "execution_count": 4,
     "metadata": {},
     "output_type": "execute_result"
    }
   ],
   "source": [
    "df = pd.read_csv('Terry_Stops_20240825.csv')\n",
    "df.head()"
   ]
  },
  {
   "cell_type": "code",
   "execution_count": 5,
   "metadata": {},
   "outputs": [
    {
     "data": {
      "text/plain": [
       "Index(['Subject Age Group', 'Subject ID', 'GO / SC Num', 'Terry Stop ID',\n",
       "       'Stop Resolution', 'Weapon Type', 'Officer ID', 'Officer YOB',\n",
       "       'Officer Gender', 'Officer Race', 'Subject Perceived Race',\n",
       "       'Subject Perceived Gender', 'Reported Date', 'Reported Time',\n",
       "       'Initial Call Type', 'Final Call Type', 'Call Type', 'Officer Squad',\n",
       "       'Arrest Flag', 'Frisk Flag', 'Precinct', 'Sector', 'Beat'],\n",
       "      dtype='object')"
      ]
     },
     "execution_count": 5,
     "metadata": {},
     "output_type": "execute_result"
    }
   ],
   "source": [
    "df.columns"
   ]
  },
  {
   "cell_type": "code",
   "execution_count": 6,
   "metadata": {},
   "outputs": [
    {
     "name": "stdout",
     "output_type": "stream",
     "text": [
      "Number of rows = 61009\n",
      "Number of columns = 23\n"
     ]
    }
   ],
   "source": [
    "#checking data  shape\n",
    "df.shape\n",
    "print('Number of rows =', df.shape[0])\n",
    "print('Number of columns =', df.shape[1])"
   ]
  },
  {
   "cell_type": "code",
   "execution_count": 7,
   "metadata": {},
   "outputs": [
    {
     "name": "stdout",
     "output_type": "stream",
     "text": [
      "<class 'pandas.core.frame.DataFrame'>\n",
      "RangeIndex: 61009 entries, 0 to 61008\n",
      "Data columns (total 23 columns):\n",
      " #   Column                    Non-Null Count  Dtype \n",
      "---  ------                    --------------  ----- \n",
      " 0   Subject Age Group         61009 non-null  object\n",
      " 1   Subject ID                61009 non-null  int64 \n",
      " 2   GO / SC Num               61009 non-null  int64 \n",
      " 3   Terry Stop ID             61009 non-null  int64 \n",
      " 4   Stop Resolution           61009 non-null  object\n",
      " 5   Weapon Type               61009 non-null  object\n",
      " 6   Officer ID                61009 non-null  object\n",
      " 7   Officer YOB               61009 non-null  int64 \n",
      " 8   Officer Gender            61009 non-null  object\n",
      " 9   Officer Race              61009 non-null  object\n",
      " 10  Subject Perceived Race    61009 non-null  object\n",
      " 11  Subject Perceived Gender  61009 non-null  object\n",
      " 12  Reported Date             61009 non-null  object\n",
      " 13  Reported Time             61009 non-null  object\n",
      " 14  Initial Call Type         61009 non-null  object\n",
      " 15  Final Call Type           61009 non-null  object\n",
      " 16  Call Type                 61009 non-null  object\n",
      " 17  Officer Squad             60448 non-null  object\n",
      " 18  Arrest Flag               61009 non-null  object\n",
      " 19  Frisk Flag                61009 non-null  object\n",
      " 20  Precinct                  61009 non-null  object\n",
      " 21  Sector                    61009 non-null  object\n",
      " 22  Beat                      61009 non-null  object\n",
      "dtypes: int64(4), object(19)\n",
      "memory usage: 10.7+ MB\n"
     ]
    }
   ],
   "source": [
    "df.info()"
   ]
  },
  {
   "cell_type": "markdown",
   "metadata": {},
   "source": [
    "### Summary of features\n",
    "1. Subject Age Group: Subject Age Group (10 year increments) as reported by the officer.\n",
    "2. Subject ID: Key, generated daily, identifying unique subjects in the dataset using a character to character match of first name and last name.\n",
    "3. GO / SC Num: General Offense or Street Check number, relating the Terry Stop to the parent report.\n",
    "4. Terry Stop ID: Key identifying unique Terry Stop reports.\n",
    "5. Stop Resolution: Resolution of the stop as reported by the officer.\n",
    "6. Weapon Type: Type of weapon, if any, identified during a search or frisk of the subject.\n",
    "7. Officer ID: Key identifying unique officers in the dataset.\n",
    "8. Officer YOB: Year of birth, as reported by the officer.\n",
    "9. Officer Gender: Gender of the officer, as reported by the officer.\n",
    "10. Officer Race: Race of the officer, as reported by the officer.\n",
    "11. Subject Perceived Race: Perceived race of the subject, as reported by the officer.\n",
    "12. Subject Perceived Gender: Perceived gender of the subject, as reported by the officer.\n",
    "13. Reported Date: Date the report was filed in the Records Management System (RMS).\n",
    "14. Reported Time: Time the stop was reported in the Records Management System (RMS).\n",
    "15. Initial Call Type: Initial classification of the call as assigned by 911.\n",
    "16. Final Call Type: Final classification of the call as assigned by the primary officer closing the event.\n",
    "17. Call Type: How the call was received by the communication center.\n",
    "18. Officer Squad: Functional squad assignment (not budget) of the officer as reported by the Data Analytics Platform (DAP).\n",
    "19. Arrest Flag: Indicator of whether a \"physical arrest\" was made, of the subject, during the Terry Stop. Does not necessarily reflect a report of an arrest in the Records Management System (RMS).\n",
    "20. Frisk Flag: Indicator of whether a \"frisk\" was conducted, by the officer, of the subject, during the Terry Stop.\n",
    "21. Precinct: Precinct of the address associated with the underlying Computer Aided Dispatch (CAD) event. Not necessarily where the Terry Stop occurred.\n",
    "22. Sector: Sector of the address associated with the underlying Computer Aided Dispatch (CAD) event. Not necessarily where the Terry Stop occurred.\n",
    "23. Beat: Beat of the address associated with the underlying Computer Aided Dispatch (CAD) event. Not necessarily where the Terry Stop occurred.\n"
   ]
  },
  {
   "cell_type": "markdown",
   "metadata": {},
   "source": [
    "## Checking for null values"
   ]
  },
  {
   "cell_type": "code",
   "execution_count": 8,
   "metadata": {},
   "outputs": [],
   "source": [
    "df.drop(columns=['Sector','Beat'],axis=1,inplace=True)"
   ]
  },
  {
   "cell_type": "markdown",
   "metadata": {},
   "source": [
    "The sector and beat columns are dropped as they are not where the stops occured."
   ]
  },
  {
   "cell_type": "code",
   "execution_count": 9,
   "metadata": {},
   "outputs": [],
   "source": [
    "# To convert the missing values in the data into nan type\n",
    "df.replace('-', np.nan, inplace=True)"
   ]
  },
  {
   "cell_type": "code",
   "execution_count": 10,
   "metadata": {},
   "outputs": [
    {
     "data": {
      "text/plain": [
       "Subject Age Group            2200\n",
       "Subject ID                      0\n",
       "GO / SC Num                     0\n",
       "Terry Stop ID                   0\n",
       "Stop Resolution                 0\n",
       "Weapon Type                 24571\n",
       "Officer ID                     24\n",
       "Officer YOB                     0\n",
       "Officer Gender                  0\n",
       "Officer Race                    0\n",
       "Subject Perceived Race       1816\n",
       "Subject Perceived Gender      243\n",
       "Reported Date                   0\n",
       "Reported Time                   0\n",
       "Initial Call Type           13477\n",
       "Final Call Type             13477\n",
       "Call Type                   13477\n",
       "Officer Squad                 561\n",
       "Arrest Flag                     0\n",
       "Frisk Flag                    478\n",
       "Precinct                    10621\n",
       "dtype: int64"
      ]
     },
     "execution_count": 10,
     "metadata": {},
     "output_type": "execute_result"
    }
   ],
   "source": [
    "# To check number of null values in each column\n",
    "df.isnull().sum()"
   ]
  },
  {
   "cell_type": "markdown",
   "metadata": {},
   "source": [
    "The dataset contains a significant number of NaN values relative to its size in some columns(61,009 entries).\n",
    "\n",
    "    The output indicates the count of missing values (NaN or null values) for each column in the dataset:\n",
    "\n",
    "    Subject Age Group has 2200 missing values.\n",
    "    Weapon Type has 24571 missing values.\n",
    "    Officer ID has 24 missing values.\n",
    "    Subject Perceived Race has 1816 missing values.\n",
    "    Subject Perceived Gender has 243 missing values.\n",
    "    Initial Call Type has 13477 missing values.\n",
    "    Final Call Type has 13477 missing values.\n",
    "    Call Type has 13477 missing values.\n",
    "    Officer Squad  has 561 missing values.\n",
    "    Frisk Flag has 478 missing values.\n"
   ]
  },
  {
   "cell_type": "code",
   "execution_count": 11,
   "metadata": {},
   "outputs": [],
   "source": [
    "# As the percentage of missing values in Officer ID is very small it is easier to drop the rows(23) containing the nan value. \n",
    "df.dropna(subset=['Officer ID'], inplace= True)"
   ]
  },
  {
   "cell_type": "code",
   "execution_count": 12,
   "metadata": {},
   "outputs": [
    {
     "data": {
      "text/plain": [
       "Subject Age Group            2196\n",
       "Subject ID                      0\n",
       "GO / SC Num                     0\n",
       "Terry Stop ID                   0\n",
       "Stop Resolution                 0\n",
       "Weapon Type                 24547\n",
       "Officer ID                      0\n",
       "Officer YOB                     0\n",
       "Officer Gender                  0\n",
       "Officer Race                    0\n",
       "Subject Perceived Race       1808\n",
       "Subject Perceived Gender      240\n",
       "Reported Date                   0\n",
       "Reported Time                   0\n",
       "Initial Call Type           13453\n",
       "Final Call Type             13453\n",
       "Call Type                   13453\n",
       "Officer Squad                 537\n",
       "Arrest Flag                     0\n",
       "Frisk Flag                    478\n",
       "Precinct                    10621\n",
       "dtype: int64"
      ]
     },
     "execution_count": 12,
     "metadata": {},
     "output_type": "execute_result"
    }
   ],
   "source": [
    "df.isna().sum()"
   ]
  },
  {
   "cell_type": "code",
   "execution_count": 13,
   "metadata": {},
   "outputs": [],
   "source": [
    "def missing_data(df, column):\n",
    "    length_of_df=len(df)                                                    \n",
    "    missing_data= column.isna().sum()                                       \n",
    "    percentage_of_missing_data = round((missing_data/length_of_df*100),2)   \n",
    "    return print(f\"Percentage of Missing Data: {percentage_of_missing_data}\"\"%\")"
   ]
  },
  {
   "cell_type": "code",
   "execution_count": 14,
   "metadata": {},
   "outputs": [
    {
     "name": "stdout",
     "output_type": "stream",
     "text": [
      "Percentage of Missing Data: 0.88%\n"
     ]
    }
   ],
   "source": [
    "missing_data(df,df['Officer Squad'])"
   ]
  },
  {
   "cell_type": "code",
   "execution_count": 15,
   "metadata": {},
   "outputs": [
    {
     "name": "stdout",
     "output_type": "stream",
     "text": [
      "Percentage of Missing Data: 40.25%\n"
     ]
    }
   ],
   "source": [
    "missing_data(df,df['Weapon Type'])"
   ]
  },
  {
   "cell_type": "code",
   "execution_count": 16,
   "metadata": {},
   "outputs": [
    {
     "name": "stdout",
     "output_type": "stream",
     "text": [
      "Percentage of Missing Data: 2.96%\n"
     ]
    }
   ],
   "source": [
    "missing_data(df,df['Subject Perceived Race'])"
   ]
  },
  {
   "cell_type": "code",
   "execution_count": 17,
   "metadata": {},
   "outputs": [
    {
     "name": "stdout",
     "output_type": "stream",
     "text": [
      "Percentage of Missing Data: 0.39%\n"
     ]
    }
   ],
   "source": [
    "missing_data(df,df['Subject Perceived Gender'])"
   ]
  },
  {
   "cell_type": "code",
   "execution_count": 18,
   "metadata": {},
   "outputs": [
    {
     "name": "stdout",
     "output_type": "stream",
     "text": [
      "Percentage of Missing Data: 22.06%\n"
     ]
    }
   ],
   "source": [
    "missing_data(df,df['Initial Call Type'])"
   ]
  },
  {
   "cell_type": "code",
   "execution_count": 19,
   "metadata": {},
   "outputs": [
    {
     "name": "stdout",
     "output_type": "stream",
     "text": [
      "Percentage of Missing Data: 22.06%\n"
     ]
    }
   ],
   "source": [
    "missing_data(df,df['Final Call Type'])"
   ]
  },
  {
   "cell_type": "code",
   "execution_count": 20,
   "metadata": {},
   "outputs": [
    {
     "name": "stdout",
     "output_type": "stream",
     "text": [
      "Percentage of Missing Data: 22.06%\n"
     ]
    }
   ],
   "source": [
    "missing_data(df,df['Call Type'])"
   ]
  },
  {
   "cell_type": "code",
   "execution_count": 21,
   "metadata": {},
   "outputs": [
    {
     "name": "stdout",
     "output_type": "stream",
     "text": [
      "Percentage of Missing Data: 17.42%\n"
     ]
    }
   ],
   "source": [
    "missing_data(df,df['Precinct'])"
   ]
  },
  {
   "cell_type": "code",
   "execution_count": 23,
   "metadata": {},
   "outputs": [],
   "source": [
    "# Function to replace nulls in officer squad column with the mode of officer squad for the same precinct\n",
    "def replace_null_with_mode(df, target_col, group_col):\n",
    "    # Iterating through the rows with null values in the target column\n",
    "    for index, row in df[df[target_col].isnull()].iterrows():\n",
    "        # Getting the corresponding group value (zipcode)\n",
    "        group_value = row[group_col]\n",
    "        # Filtering the DataFrame to include only rows with the same group value and non-null target values\n",
    "        filtered_df = df[(df[group_col] == group_value) & df[target_col].notnull()]\n",
    "        # Getting the mode of the target column in the filtered DataFrame\n",
    "        mode_value = filtered_df[target_col].mode()\n",
    "        # Checking if mode_value is not empty\n",
    "        if not mode_value.empty:\n",
    "            # Replacing the null value with the mode value\n",
    "            df.at[index, target_col] = mode_value[0]\n",
    "    return df\n",
    "\n",
    "# Replacing nulls in columns with the mode of columns for the same precinct\n",
    "df = replace_null_with_mode(df, 'Officer Squad', 'Officer ID')\n",
    "df = replace_null_with_mode(df, 'Weapon Type', 'Officer ID')\n",
    "df = replace_null_with_mode(df, 'Subject Perceived Race', 'Officer ID')\n",
    "df = replace_null_with_mode(df, 'Subject Perceived Gender', 'Officer ID')\n"
   ]
  },
  {
   "cell_type": "code",
   "execution_count": 25,
   "metadata": {},
   "outputs": [],
   "source": [
    "df = replace_null_with_mode(df,'Initial Call Type','Officer ID')\n",
    "df = replace_null_with_mode(df,'Final Call Type','Officer ID')\n",
    "df = replace_null_with_mode(df,'Call Type','Officer ID')"
   ]
  },
  {
   "cell_type": "code",
   "execution_count": 72,
   "metadata": {},
   "outputs": [],
   "source": [
    "df = replace_null_with_mode(df,'Subject Age Group','Officer ID')"
   ]
  },
  {
   "cell_type": "code",
   "execution_count": 26,
   "metadata": {},
   "outputs": [
    {
     "data": {
      "text/plain": [
       "Subject Age Group           2196\n",
       "Subject ID                     0\n",
       "GO / SC Num                    0\n",
       "Terry Stop ID                  0\n",
       "Stop Resolution                0\n",
       "Weapon Type                 1219\n",
       "Officer ID                     0\n",
       "Officer YOB                    0\n",
       "Officer Gender                 0\n",
       "Officer Race                   0\n",
       "Subject Perceived Race         6\n",
       "Subject Perceived Gender       1\n",
       "Reported Date                  0\n",
       "Reported Time                  0\n",
       "Initial Call Type            171\n",
       "Final Call Type              171\n",
       "Call Type                    171\n",
       "Officer Squad                 69\n",
       "Arrest Flag                    0\n",
       "Frisk Flag                   478\n",
       "Precinct                      44\n",
       "dtype: int64"
      ]
     },
     "execution_count": 26,
     "metadata": {},
     "output_type": "execute_result"
    }
   ],
   "source": [
    "df.isna().sum()"
   ]
  },
  {
   "cell_type": "markdown",
   "metadata": {},
   "source": [
    "### Checking for duplicates"
   ]
  },
  {
   "cell_type": "code",
   "execution_count": 27,
   "metadata": {},
   "outputs": [
    {
     "data": {
      "text/plain": [
       "0"
      ]
     },
     "execution_count": 27,
     "metadata": {},
     "output_type": "execute_result"
    }
   ],
   "source": [
    "# To check for duplicates\n",
    "df.duplicated().sum()"
   ]
  },
  {
   "cell_type": "markdown",
   "metadata": {},
   "source": [
    "### Further EDA"
   ]
  },
  {
   "cell_type": "code",
   "execution_count": 28,
   "metadata": {},
   "outputs": [
    {
     "data": {
      "text/plain": [
       "None                                    46129\n",
       "Knife/Cutting/Stabbing Instrument       10030\n",
       "Lethal Cutting Instrument                1484\n",
       "Handgun                                   865\n",
       "Blunt Object/Striking Implement           412\n",
       "Firearm                                   409\n",
       "Other Firearm                             124\n",
       "Firearm Other                             100\n",
       "Mace/Pepper Spray                          56\n",
       "Club, Blackjack, Brass Knuckles            49\n",
       "None/Not Applicable                        29\n",
       "Taser/Stun Gun                             18\n",
       "Firearm (unk type)                         15\n",
       "Fire/Incendiary Device                     13\n",
       "Rifle                                      11\n",
       "Club                                        9\n",
       "Shotgun                                     6\n",
       "Personal Weapons (hands, feet, etc.)        2\n",
       "Automatic Handgun                           2\n",
       "Brass Knuckles                              1\n",
       "Blackjack                                   1\n",
       "Poison                                      1\n",
       "Name: Weapon Type, dtype: int64"
      ]
     },
     "execution_count": 28,
     "metadata": {},
     "output_type": "execute_result"
    }
   ],
   "source": [
    "df['Weapon Type'].value_counts()"
   ]
  },
  {
   "cell_type": "code",
   "execution_count": 29,
   "metadata": {},
   "outputs": [],
   "source": [
    "df['Weapon Type'].replace(to_replace=['None/Not Applicable','Firearm Other','Other Firearm'], value=['None','Firearm','Firearm'], inplace=True)"
   ]
  },
  {
   "cell_type": "code",
   "execution_count": 30,
   "metadata": {},
   "outputs": [
    {
     "data": {
      "text/plain": [
       "None                                    46158\n",
       "Knife/Cutting/Stabbing Instrument       10030\n",
       "Lethal Cutting Instrument                1484\n",
       "Handgun                                   865\n",
       "Firearm                                   633\n",
       "Blunt Object/Striking Implement           412\n",
       "Mace/Pepper Spray                          56\n",
       "Club, Blackjack, Brass Knuckles            49\n",
       "Taser/Stun Gun                             18\n",
       "Firearm (unk type)                         15\n",
       "Fire/Incendiary Device                     13\n",
       "Rifle                                      11\n",
       "Club                                        9\n",
       "Shotgun                                     6\n",
       "Automatic Handgun                           2\n",
       "Personal Weapons (hands, feet, etc.)        2\n",
       "Brass Knuckles                              1\n",
       "Blackjack                                   1\n",
       "Poison                                      1\n",
       "Name: Weapon Type, dtype: int64"
      ]
     },
     "execution_count": 30,
     "metadata": {},
     "output_type": "execute_result"
    }
   ],
   "source": [
    "df['Weapon Type'].value_counts()"
   ]
  },
  {
   "cell_type": "code",
   "execution_count": 31,
   "metadata": {},
   "outputs": [],
   "source": [
    "df['Has Weapon'] = df['Weapon Type'].apply(lambda x: 0 if x == 'None' else 1)"
   ]
  },
  {
   "cell_type": "code",
   "execution_count": 32,
   "metadata": {},
   "outputs": [],
   "source": [
    "df.drop('Weapon Type',axis=1,inplace=True)"
   ]
  },
  {
   "cell_type": "code",
   "execution_count": 33,
   "metadata": {},
   "outputs": [
    {
     "data": {
      "text/plain": [
       "N    45911\n",
       "Y    14596\n",
       "Name: Frisk Flag, dtype: int64"
      ]
     },
     "execution_count": 33,
     "metadata": {},
     "output_type": "execute_result"
    }
   ],
   "source": [
    "df['Frisk Flag'].value_counts()"
   ]
  },
  {
   "cell_type": "code",
   "execution_count": 34,
   "metadata": {},
   "outputs": [],
   "source": [
    "df['Frisk Flag'].replace(to_replace=['N', '-', 'Y'], value=[0,0,1], inplace=True)"
   ]
  },
  {
   "cell_type": "code",
   "execution_count": 35,
   "metadata": {},
   "outputs": [
    {
     "data": {
      "text/plain": [
       "0.0    45911\n",
       "1.0    14596\n",
       "Name: Frisk Flag, dtype: int64"
      ]
     },
     "execution_count": 35,
     "metadata": {},
     "output_type": "execute_result"
    }
   ],
   "source": [
    "df['Frisk Flag'].value_counts()"
   ]
  },
  {
   "cell_type": "code",
   "execution_count": 36,
   "metadata": {},
   "outputs": [
    {
     "data": {
      "text/plain": [
       "1986    4024\n",
       "1987    3790\n",
       "1991    3415\n",
       "1992    3284\n",
       "1984    3145\n",
       "1990    3082\n",
       "1989    2964\n",
       "1985    2852\n",
       "1988    2591\n",
       "1995    2327\n",
       "1993    2180\n",
       "1982    2060\n",
       "1983    2021\n",
       "1979    1885\n",
       "1994    1763\n",
       "1981    1712\n",
       "1976    1368\n",
       "1996    1339\n",
       "1971    1312\n",
       "1978    1263\n",
       "1977    1153\n",
       "1997    1093\n",
       "1973    1084\n",
       "1980    1000\n",
       "1967     843\n",
       "1970     724\n",
       "1968     692\n",
       "1975     655\n",
       "1969     618\n",
       "1974     603\n",
       "1972     483\n",
       "1964     472\n",
       "1962     465\n",
       "1965     424\n",
       "1998     382\n",
       "1963     265\n",
       "1961     263\n",
       "1966     248\n",
       "1958     223\n",
       "1959     174\n",
       "1960     161\n",
       "1999     124\n",
       "2000     103\n",
       "1900      76\n",
       "2001      60\n",
       "1954      44\n",
       "1957      43\n",
       "1953      38\n",
       "2002      29\n",
       "1955      21\n",
       "1956      17\n",
       "1948      11\n",
       "1952       9\n",
       "1949       5\n",
       "1946       2\n",
       "1951       1\n",
       "Name: Officer YOB, dtype: int64"
      ]
     },
     "execution_count": 36,
     "metadata": {},
     "output_type": "execute_result"
    }
   ],
   "source": [
    "df['Officer YOB'].value_counts()"
   ]
  },
  {
   "cell_type": "markdown",
   "metadata": {},
   "source": [
    "In this case 1 shows whether a frisk was done while 0 is that none was done."
   ]
  },
  {
   "cell_type": "code",
   "execution_count": 37,
   "metadata": {},
   "outputs": [
    {
     "data": {
      "text/plain": [
       "N    54406\n",
       "Y     6579\n",
       "Name: Arrest Flag, dtype: int64"
      ]
     },
     "execution_count": 37,
     "metadata": {},
     "output_type": "execute_result"
    }
   ],
   "source": [
    "df['Arrest Flag'].value_counts()"
   ]
  },
  {
   "cell_type": "code",
   "execution_count": 38,
   "metadata": {},
   "outputs": [],
   "source": [
    "df['Arrest Flag'].replace(to_replace=['N','Y'], value=[0,1], inplace=True)"
   ]
  },
  {
   "cell_type": "code",
   "execution_count": 39,
   "metadata": {},
   "outputs": [
    {
     "data": {
      "text/plain": [
       "0    54406\n",
       "1     6579\n",
       "Name: Arrest Flag, dtype: int64"
      ]
     },
     "execution_count": 39,
     "metadata": {},
     "output_type": "execute_result"
    }
   ],
   "source": [
    "df['Arrest Flag'].value_counts()"
   ]
  },
  {
   "cell_type": "code",
   "execution_count": 40,
   "metadata": {},
   "outputs": [],
   "source": [
    "df['Reported Date'] = pd.to_datetime(df['Reported Date'])\n",
    "df['Reported Time'] = pd.to_datetime(df['Reported Time'])"
   ]
  },
  {
   "cell_type": "code",
   "execution_count": 41,
   "metadata": {},
   "outputs": [
    {
     "data": {
      "text/plain": [
       "7456    530\n",
       "7773    367\n",
       "7634    360\n",
       "7690    359\n",
       "8646    351\n",
       "       ... \n",
       "6162      1\n",
       "6363      1\n",
       "8876      1\n",
       "5983      1\n",
       "6342      1\n",
       "Name: Officer ID, Length: 1382, dtype: int64"
      ]
     },
     "execution_count": 41,
     "metadata": {},
     "output_type": "execute_result"
    }
   ],
   "source": [
    "df['Officer ID'].value_counts()"
   ]
  },
  {
   "cell_type": "code",
   "execution_count": 42,
   "metadata": {},
   "outputs": [
    {
     "data": {
      "text/plain": [
       "Subject Age Group               6\n",
       "Subject ID                  16989\n",
       "GO / SC Num                 48828\n",
       "Terry Stop ID               60883\n",
       "Stop Resolution                 5\n",
       "Officer ID                   1382\n",
       "Officer YOB                    56\n",
       "Officer Gender                  3\n",
       "Officer Race                    9\n",
       "Subject Perceived Race         10\n",
       "Subject Perceived Gender        6\n",
       "Reported Date                3449\n",
       "Reported Time               23667\n",
       "Initial Call Type             180\n",
       "Final Call Type               195\n",
       "Call Type                       6\n",
       "Officer Squad                 270\n",
       "Arrest Flag                     2\n",
       "Frisk Flag                      2\n",
       "Precinct                        8\n",
       "Has Weapon                      2\n",
       "dtype: int64"
      ]
     },
     "execution_count": 42,
     "metadata": {},
     "output_type": "execute_result"
    }
   ],
   "source": [
    "df.nunique()"
   ]
  },
  {
   "cell_type": "code",
   "execution_count": 43,
   "metadata": {},
   "outputs": [
    {
     "data": {
      "text/plain": [
       "Male                                                         48381\n",
       "Female                                                       12130\n",
       "Unable to Determine                                            326\n",
       "Unknown                                                        100\n",
       "Gender Diverse (gender non-conforming and/or transgender)       45\n",
       "MULTIPLE SUBJECTS                                                2\n",
       "Name: Subject Perceived Gender, dtype: int64"
      ]
     },
     "execution_count": 43,
     "metadata": {},
     "output_type": "execute_result"
    }
   ],
   "source": [
    "df['Subject Perceived Gender'].value_counts()"
   ]
  },
  {
   "cell_type": "code",
   "execution_count": 44,
   "metadata": {},
   "outputs": [],
   "source": [
    "df['Subject Perceived Gender'].replace(to_replace=['Male','Female','Unable to Determine','Unknown','Gender Diverse (gender non-conforming and/or transgender)','MULTIPLE SUBJECTS'],value=[0,1,2,2,2,2],inplace=True)"
   ]
  },
  {
   "cell_type": "code",
   "execution_count": 45,
   "metadata": {},
   "outputs": [
    {
     "data": {
      "text/plain": [
       "M    54072\n",
       "F     6907\n",
       "N        6\n",
       "Name: Officer Gender, dtype: int64"
      ]
     },
     "execution_count": 45,
     "metadata": {},
     "output_type": "execute_result"
    }
   ],
   "source": [
    "df['Officer Gender'].value_counts()"
   ]
  },
  {
   "cell_type": "code",
   "execution_count": 46,
   "metadata": {},
   "outputs": [],
   "source": [
    "df['Officer Gender'].replace(to_replace=['M','F','N'],value=[0,1,2],inplace=True)"
   ]
  },
  {
   "cell_type": "code",
   "execution_count": 47,
   "metadata": {},
   "outputs": [
    {
     "data": {
      "text/plain": [
       "0    54072\n",
       "1     6907\n",
       "2        6\n",
       "Name: Officer Gender, dtype: int64"
      ]
     },
     "execution_count": 47,
     "metadata": {},
     "output_type": "execute_result"
    }
   ],
   "source": [
    "df['Officer Gender'].value_counts()"
   ]
  },
  {
   "cell_type": "code",
   "execution_count": 50,
   "metadata": {},
   "outputs": [
    {
     "data": {
      "text/plain": [
       "0.0    48381\n",
       "1.0    12130\n",
       "2.0      473\n",
       "Name: Subject Perceived Gender, dtype: int64"
      ]
     },
     "execution_count": 50,
     "metadata": {},
     "output_type": "execute_result"
    }
   ],
   "source": [
    "df['Subject Perceived Gender'].value_counts()"
   ]
  },
  {
   "cell_type": "code",
   "execution_count": 51,
   "metadata": {},
   "outputs": [
    {
     "name": "stdout",
     "output_type": "stream",
     "text": [
      "<class 'pandas.core.frame.DataFrame'>\n",
      "Int64Index: 60985 entries, 0 to 61008\n",
      "Data columns (total 21 columns):\n",
      " #   Column                    Non-Null Count  Dtype              \n",
      "---  ------                    --------------  -----              \n",
      " 0   Subject Age Group         58789 non-null  object             \n",
      " 1   Subject ID                60985 non-null  int64              \n",
      " 2   GO / SC Num               60985 non-null  int64              \n",
      " 3   Terry Stop ID             60985 non-null  int64              \n",
      " 4   Stop Resolution           60985 non-null  object             \n",
      " 5   Officer ID                60985 non-null  object             \n",
      " 6   Officer YOB               60985 non-null  int64              \n",
      " 7   Officer Gender            60985 non-null  int64              \n",
      " 8   Officer Race              60985 non-null  object             \n",
      " 9   Subject Perceived Race    60979 non-null  object             \n",
      " 10  Subject Perceived Gender  60984 non-null  float64            \n",
      " 11  Reported Date             60985 non-null  datetime64[ns, UTC]\n",
      " 12  Reported Time             60985 non-null  datetime64[ns]     \n",
      " 13  Initial Call Type         60814 non-null  object             \n",
      " 14  Final Call Type           60814 non-null  object             \n",
      " 15  Call Type                 60814 non-null  object             \n",
      " 16  Officer Squad             60916 non-null  object             \n",
      " 17  Arrest Flag               60985 non-null  int64              \n",
      " 18  Frisk Flag                60507 non-null  float64            \n",
      " 19  Precinct                  60941 non-null  object             \n",
      " 20  Has Weapon                60985 non-null  int64              \n",
      "dtypes: datetime64[ns, UTC](1), datetime64[ns](1), float64(2), int64(7), object(10)\n",
      "memory usage: 12.7+ MB\n"
     ]
    }
   ],
   "source": [
    "df.info()"
   ]
  },
  {
   "cell_type": "code",
   "execution_count": 52,
   "metadata": {},
   "outputs": [
    {
     "name": "stdout",
     "output_type": "stream",
     "text": [
      "Categorical columns: ['Subject Age Group', 'Stop Resolution', 'Officer ID', 'Officer Race', 'Subject Perceived Race', 'Initial Call Type', 'Final Call Type', 'Call Type', 'Officer Squad', 'Precinct']\n",
      "Numerical columns: ['Subject ID', 'GO / SC Num', 'Terry Stop ID', 'Officer YOB', 'Officer Gender', 'Subject Perceived Gender', 'Reported Date', 'Reported Time', 'Arrest Flag', 'Frisk Flag', 'Has Weapon']\n"
     ]
    }
   ],
   "source": [
    "# Splitting the columns based on variable types\n",
    "categorical_columns = []\n",
    "numerical_columns = []\n",
    "for i in df.columns:\n",
    "    if df[i].dtype == 'O':\n",
    "        categorical_columns.append(i)\n",
    "    else:\n",
    "        numerical_columns.append(i)\n",
    "        \n",
    "print(f\"Categorical columns:\",  categorical_columns) \n",
    "print(f\"Numerical columns:\",  numerical_columns) "
   ]
  },
  {
   "cell_type": "markdown",
   "metadata": {},
   "source": [
    "## Visualization of relationship"
   ]
  },
  {
   "cell_type": "code",
   "execution_count": 54,
   "metadata": {},
   "outputs": [
    {
     "data": {
      "image/png": "[encoded data removed]",
      "text/plain": [
       "<Figure size 432x288 with 1 Axes>"
      ]
     },
     "metadata": {
      "needs_background": "light"
     },
     "output_type": "display_data"
    },
    {
     "name": "stdout",
     "output_type": "stream",
     "text": [
      "0    54406\n",
      "1     6579\n",
      "Name: Arrest Flag, dtype: int64\n"
     ]
    }
   ],
   "source": [
    "# Distribution of Arrests\n",
    "\n",
    "sns.countplot(x='Arrest Flag', data=df, palette='dark')\n",
    "plt.title('Arrest Distribution')\n",
    "plt.xlabel('Arrests')\n",
    "plt.ylabel('Frequency')\n",
    "plt.show()\n",
    "\n",
    "print(df['Arrest Flag'].value_counts())"
   ]
  },
  {
   "cell_type": "markdown",
   "metadata": {},
   "source": [
    ">From the above plot the number of arrests made were few after a terry stop"
   ]
  },
  {
   "cell_type": "code",
   "execution_count": 55,
   "metadata": {},
   "outputs": [
    {
     "data": {
      "image/png": "[encoded data removed]",
      "text/plain": [
       "<Figure size 1440x1296 with 9 Axes>"
      ]
     },
     "metadata": {
      "needs_background": "light"
     },
     "output_type": "display_data"
    }
   ],
   "source": [
    "df.hist(figsize = (20,18));"
   ]
  },
  {
   "cell_type": "markdown",
   "metadata": {},
   "source": [
    "## Discussion\n",
    "* Subject ID, GO / SC Num, Terry Stop ID: These graphs show the frequency distribution of different identifiers. The high counts in certain categories might indicate common occurrences or frequent subjects in the dataset.\n",
    "* Officer YOB, Officer Gender, Subject Perceived Gender: These graphs provide insights into the demographics of officers and subjects. For example, the distribution of officer birth years (YOB) can reveal the age range of the workforce, while gender distributions can highlight diversity or lack thereof.\n",
    "* Arrest Flag, Frisk Flag, Weapon: These graphs show the frequency of arrests, frisks, and weapon findings. High counts in these categories could indicate areas with more law enforcement activity or higher crime rates."
   ]
  },
  {
   "cell_type": "markdown",
   "metadata": {},
   "source": [
    "## Checking for outliers"
   ]
  },
  {
   "cell_type": "code",
   "execution_count": 67,
   "metadata": {},
   "outputs": [
    {
     "data": {
      "image/png": "[encoded data removed]",
      "text/plain": [
       "<Figure size 1080x1440 with 9 Axes>"
      ]
     },
     "metadata": {
      "needs_background": "light"
     },
     "output_type": "display_data"
    }
   ],
   "source": [
    "# Define the function for plotting boxplots\n",
    "def boxplot_graph(df1, number_of_columns, columns_to_plot):\n",
    "    # Ensure columns to plot are numeric\n",
    "    numeric_columns = df1[columns_to_plot].select_dtypes(include='number').columns.tolist()\n",
    "    \n",
    "    # Check if there are numeric columns to plot\n",
    "    if not numeric_columns:\n",
    "        print(\"No numeric columns to plot.\")\n",
    "        return\n",
    "    \n",
    "    # Creating subplots\n",
    "    num_columns = len(numeric_columns)\n",
    "\n",
    "    # Number of rows and columns for subplots\n",
    "    ncols = number_of_columns\n",
    "    nrows = math.ceil(num_columns / ncols)\n",
    "\n",
    "    fig, axes = plt.subplots(nrows=nrows, ncols=ncols, figsize=(15, 20))\n",
    "\n",
    "    # Flatten the axes array for easy iteration\n",
    "    axes = axes.flatten()\n",
    "\n",
    "    # Plotting each column in a separate subplot\n",
    "    for i, column in enumerate(numeric_columns):\n",
    "        sns.boxplot(y=df1[column], color=\"r\", ax=axes[i])\n",
    "        axes[i].set_title(column)\n",
    "\n",
    "    # Remove any empty subplots\n",
    "    for j in range(i + 1, len(axes)):\n",
    "        fig.delaxes(axes[j])\n",
    "\n",
    "    # Adjust the layout to add space between rows\n",
    "    plt.subplots_adjust(hspace=3) \n",
    "\n",
    "    plt.suptitle('Box Plots of Different Columns')\n",
    "    plt.tight_layout(rect=[0, 0, 1, 0.96])  # Adjust layout to make room for the main title\n",
    "    plt.show()\n",
    "\n",
    "# Example usage\n",
    "# Assuming `df` is your DataFrame and `numerical_columns` is a list of columns to plot\n",
    "boxplot_graph(df, 3, numerical_columns)\n"
   ]
  },
  {
   "cell_type": "markdown",
   "metadata": {},
   "source": [
    "## Discussion\n",
    "\n",
    "* Subject ID and Terry Stop ID: These box plots show the distribution of identifiers. The median and interquartile range (IQR) indicate the central tendency and variability. Outliers, if any, can highlight unusual cases.\n",
    "* Officer YOB and Officer Gender: These plots provide insights into the demographics of officers. The distribution of birth years (YOB) can reveal the age range, while gender distribution can highlight diversity.\n",
    "* Arrest Flag and Subject Perceived Gender: These plots show the frequency of arrests and perceived gender of subjects. The median values and IQRs can indicate common trends and variability in these categories.\n",
    "* Frisk Flag and Has Weapon: The individual points plotted for these categories can indicate the frequency and distribution of frisks and weapon findings.\n",
    "\n",
    "But considering this is based on real data we will avoid removing outliers as it will not give accurate insight to the dataset"
   ]
  },
  {
   "cell_type": "markdown",
   "metadata": {},
   "source": [
    "\n",
    "\n",
    "*Bivariate Analysis*\n",
    "\n",
    "In this section, we will perform bivariate analysis to examine the relationship between the target variable - price and the other numeric and continuous features in the data. We will use scatter plots to show the direction, strength, and shape of the relationship between two numeric variables. This will help us understand how one variable affects or is affected by another variable and identify any patterns or trends that may exist."
   ]
  },
  {
   "cell_type": "code",
   "execution_count": 68,
   "metadata": {},
   "outputs": [
    {
     "data": {
      "image/png": "[encoded data removed]",
      "text/plain": [
       "<Figure size 1080x1440 with 12 Axes>"
      ]
     },
     "metadata": {
      "needs_background": "light"
     },
     "output_type": "display_data"
    }
   ],
   "source": [
    "# Examine the relationships between 'Arrest Flag' and several independent variables through scatter plots\n",
    "variables = categorical_columns\n",
    "num_rows = math.ceil(len(variables) / 3)  # Calculate the number of rows for the subplots\n",
    "\n",
    "# Set up a grid of subplots for visualizing relationships\n",
    "fig, axes = plt.subplots(num_rows, 3, figsize=(15, num_rows * 5))\n",
    "\n",
    "# Plot scatter plots to explore how each independent variable affects 'Arrest Flag'\n",
    "for i, var in enumerate(variables):\n",
    "    row = i // 3  # Compute the row index\n",
    "    col = i % 3   # Compute the column index\n",
    "    \n",
    "    # Convert categorical data to string to avoid type error\n",
    "    x = df[var].astype(str)\n",
    "    y = df['Arrest Flag']\n",
    "    \n",
    "    # Remove rows with missing values\n",
    "    mask = x.notna() & y.notna()\n",
    "    x, y = x[mask], y[mask]\n",
    "    \n",
    "    # Scatter plot\n",
    "    axes[row, col].scatter(x, y)\n",
    "    axes[row, col].set_xlabel(var)  # X-axis label\n",
    "    axes[row, col].set_ylabel('Arrests')  # Y-axis label\n",
    "    axes[row, col].set_title(f'Relationship between Arrests from Terry Stops and {var}')  # Plot title\n",
    "\n",
    "# Adjust layout to avoid overlap of subplots\n",
    "plt.tight_layout()\n",
    "plt.show()\n"
   ]
  },
  {
   "cell_type": "markdown",
   "metadata": {},
   "source": [
    "## Discussion\n",
    "* Subject Age Group: This plot shows how arrests vary across different age groups. It can help identify which age groups are more frequently involved in Terry Stops leading to arrests.\n",
    "* Stop Resolution: This plot illustrates the outcomes of Terry Stops, such as whether they resulted in an arrest or another resolution. It can highlight the effectiveness or consequences of these stops.\n",
    "* Officer ID: This plot shows the distribution of arrests across different officers. It can reveal if certain officers are more likely to make arrests during Terry Stops.\n",
    "* Subject Perceived Race: This plot examines the relationship between the perceived race of subjects and the number of arrests. It can be used to analyze potential racial disparities in arrests.\n",
    "* Precinct: This plot shows how arrests are distributed across different precincts. It can help identify areas with higher or lower arrest rates."
   ]
  },
  {
   "cell_type": "markdown",
   "metadata": {},
   "source": [
    "**Below cell code is Checking for multicollinearity**\n",
    "\n",
    "*Multivariate analysis*\n",
    "\n",
    "In this section, we will perform multivariate analysis to examine the relationship between the target variable - price and multiple features in the data. We will use heatmap to visualize the correlation matrix of the features and see how they are related to each other and to the price.\n",
    "\n",
    "A heatmap can show us the strength and direction of the correlation between two variables using different colors and shades. This will help us identify the most important features for the prediction and avoid multicollinearity problems."
   ]
  },
  {
   "cell_type": "code",
   "execution_count": 62,
   "metadata": {},
   "outputs": [
    {
     "data": {
      "image/png": "[encoded data removed]",
      "text/plain": [
       "<Figure size 1224x864 with 2 Axes>"
      ]
     },
     "metadata": {
      "needs_background": "light"
     },
     "output_type": "display_data"
    }
   ],
   "source": [
    "corr = df.corr().abs()\n",
    "fig, ax=plt.subplots(figsize=(17,12))\n",
    "fig.suptitle('Correlation Matrix of Terry Stops in Seattle', fontsize=30, y=.95, fontname='DejaVu Sans')\n",
    "heatmap = sns.heatmap(corr, cmap='coolwarm', annot=True)\n",
    "heatmap;"
   ]
  },
  {
   "cell_type": "markdown",
   "metadata": {},
   "source": [
    "## Discussion\n",
    "* Correlation Coefficients: The matrix shows correlation coefficients between variables, ranging from -1 to 1. Positive values indicate a direct relationship, while negative values indicate an inverse relationship.\n",
    "* Strong Correlations: There are strong positive correlations between variables like ‘Arrest Flag’ and ‘Frisk Flag,’ suggesting that frisks often lead to arrests.\n",
    "* Weak Correlations: Most variables show weak correlations, indicated by values close to zero. This suggests that many factors in Terry Stops are not strongly related to each other.\n",
    "* Color Coding: The colors range from dark red (strong positive correlation) to dark blue (strong negative correlation), with lighter shades indicating weaker correlations."
   ]
  },
  {
   "cell_type": "markdown",
   "metadata": {},
   "source": [
    "### Transforming Categorical data using Ohe"
   ]
  },
  {
   "cell_type": "code",
   "execution_count": 81,
   "metadata": {},
   "outputs": [
    {
     "name": "stderr",
     "output_type": "stream",
     "text": [
      "c:\\Users\\Bennie Kibet\\anaconda3\\envs\\learn-env\\lib\\site-packages\\sklearn\\preprocessing\\_encoders.py:975: FutureWarning: `sparse` was renamed to `sparse_output` in version 1.2 and will be removed in 1.4. `sparse_output` is ignored unless you leave `sparse` to its default value.\n",
      "  warnings.warn(\n"
     ]
    },
    {
     "data": {
      "text/html": [
       "<div>\n",
       "<style scoped>\n",
       "    .dataframe tbody tr th:only-of-type {\n",
       "        vertical-align: middle;\n",
       "    }\n",
       "\n",
       "    .dataframe tbody tr th {\n",
       "        vertical-align: top;\n",
       "    }\n",
       "\n",
       "    .dataframe thead th {\n",
       "        text-align: right;\n",
       "    }\n",
       "</style>\n",
       "<table border=\"1\" class=\"dataframe\">\n",
       "  <thead>\n",
       "    <tr style=\"text-align: right;\">\n",
       "      <th></th>\n",
       "      <th>Subject ID</th>\n",
       "      <th>GO / SC Num</th>\n",
       "      <th>Terry Stop ID</th>\n",
       "      <th>Officer YOB</th>\n",
       "      <th>Officer Gender</th>\n",
       "      <th>Subject Perceived Gender</th>\n",
       "      <th>Reported Date</th>\n",
       "      <th>Reported Time</th>\n",
       "      <th>Arrest Flag</th>\n",
       "      <th>Frisk Flag</th>\n",
       "      <th>...</th>\n",
       "      <th>Officer Squad_ZOLD CRIME ANALYSIS UNIT - ANALYSTS</th>\n",
       "      <th>Officer Squad_nan</th>\n",
       "      <th>Precinct_FK ERROR</th>\n",
       "      <th>Precinct_North</th>\n",
       "      <th>Precinct_OOJ</th>\n",
       "      <th>Precinct_South</th>\n",
       "      <th>Precinct_Southwest</th>\n",
       "      <th>Precinct_Unknown</th>\n",
       "      <th>Precinct_West</th>\n",
       "      <th>Precinct_nan</th>\n",
       "    </tr>\n",
       "  </thead>\n",
       "  <tbody>\n",
       "    <tr>\n",
       "      <th>0</th>\n",
       "      <td>-1.000000e+00</td>\n",
       "      <td>2.016000e+13</td>\n",
       "      <td>2.083730e+05</td>\n",
       "      <td>1953.0</td>\n",
       "      <td>0.0</td>\n",
       "      <td>0.0</td>\n",
       "      <td>2016-11-03 00:00:00+00:00</td>\n",
       "      <td>2024-08-31 15:18:00</td>\n",
       "      <td>0.0</td>\n",
       "      <td>0.0</td>\n",
       "      <td>...</td>\n",
       "      <td>0.0</td>\n",
       "      <td>0.0</td>\n",
       "      <td>0.0</td>\n",
       "      <td>1.0</td>\n",
       "      <td>0.0</td>\n",
       "      <td>0.0</td>\n",
       "      <td>0.0</td>\n",
       "      <td>0.0</td>\n",
       "      <td>0.0</td>\n",
       "      <td>0.0</td>\n",
       "    </tr>\n",
       "    <tr>\n",
       "      <th>1</th>\n",
       "      <td>-1.000000e+00</td>\n",
       "      <td>2.018000e+13</td>\n",
       "      <td>5.591460e+05</td>\n",
       "      <td>1964.0</td>\n",
       "      <td>0.0</td>\n",
       "      <td>0.0</td>\n",
       "      <td>2018-06-22 00:00:00+00:00</td>\n",
       "      <td>2024-08-31 00:07:00</td>\n",
       "      <td>0.0</td>\n",
       "      <td>0.0</td>\n",
       "      <td>...</td>\n",
       "      <td>0.0</td>\n",
       "      <td>0.0</td>\n",
       "      <td>0.0</td>\n",
       "      <td>0.0</td>\n",
       "      <td>0.0</td>\n",
       "      <td>0.0</td>\n",
       "      <td>1.0</td>\n",
       "      <td>0.0</td>\n",
       "      <td>0.0</td>\n",
       "      <td>0.0</td>\n",
       "    </tr>\n",
       "    <tr>\n",
       "      <th>2</th>\n",
       "      <td>-1.000000e+00</td>\n",
       "      <td>2.018000e+13</td>\n",
       "      <td>4.982460e+05</td>\n",
       "      <td>1962.0</td>\n",
       "      <td>0.0</td>\n",
       "      <td>0.0</td>\n",
       "      <td>2018-11-02 00:00:00+00:00</td>\n",
       "      <td>2024-08-31 02:56:00</td>\n",
       "      <td>0.0</td>\n",
       "      <td>0.0</td>\n",
       "      <td>...</td>\n",
       "      <td>0.0</td>\n",
       "      <td>0.0</td>\n",
       "      <td>0.0</td>\n",
       "      <td>1.0</td>\n",
       "      <td>0.0</td>\n",
       "      <td>0.0</td>\n",
       "      <td>0.0</td>\n",
       "      <td>0.0</td>\n",
       "      <td>0.0</td>\n",
       "      <td>0.0</td>\n",
       "    </tr>\n",
       "    <tr>\n",
       "      <th>3</th>\n",
       "      <td>-1.000000e+00</td>\n",
       "      <td>2.016000e+13</td>\n",
       "      <td>1.467420e+05</td>\n",
       "      <td>1974.0</td>\n",
       "      <td>0.0</td>\n",
       "      <td>2.0</td>\n",
       "      <td>2016-04-17 00:00:00+00:00</td>\n",
       "      <td>2024-08-31 01:44:00</td>\n",
       "      <td>0.0</td>\n",
       "      <td>0.0</td>\n",
       "      <td>...</td>\n",
       "      <td>0.0</td>\n",
       "      <td>0.0</td>\n",
       "      <td>0.0</td>\n",
       "      <td>0.0</td>\n",
       "      <td>0.0</td>\n",
       "      <td>0.0</td>\n",
       "      <td>0.0</td>\n",
       "      <td>0.0</td>\n",
       "      <td>0.0</td>\n",
       "      <td>0.0</td>\n",
       "    </tr>\n",
       "    <tr>\n",
       "      <th>4</th>\n",
       "      <td>-1.000000e+00</td>\n",
       "      <td>2.015000e+13</td>\n",
       "      <td>1.044770e+05</td>\n",
       "      <td>1975.0</td>\n",
       "      <td>0.0</td>\n",
       "      <td>1.0</td>\n",
       "      <td>2015-11-29 00:00:00+00:00</td>\n",
       "      <td>2024-08-31 02:59:00</td>\n",
       "      <td>0.0</td>\n",
       "      <td>0.0</td>\n",
       "      <td>...</td>\n",
       "      <td>0.0</td>\n",
       "      <td>0.0</td>\n",
       "      <td>0.0</td>\n",
       "      <td>1.0</td>\n",
       "      <td>0.0</td>\n",
       "      <td>0.0</td>\n",
       "      <td>0.0</td>\n",
       "      <td>0.0</td>\n",
       "      <td>0.0</td>\n",
       "      <td>0.0</td>\n",
       "    </tr>\n",
       "    <tr>\n",
       "      <th>...</th>\n",
       "      <td>...</td>\n",
       "      <td>...</td>\n",
       "      <td>...</td>\n",
       "      <td>...</td>\n",
       "      <td>...</td>\n",
       "      <td>...</td>\n",
       "      <td>...</td>\n",
       "      <td>...</td>\n",
       "      <td>...</td>\n",
       "      <td>...</td>\n",
       "      <td>...</td>\n",
       "      <td>...</td>\n",
       "      <td>...</td>\n",
       "      <td>...</td>\n",
       "      <td>...</td>\n",
       "      <td>...</td>\n",
       "      <td>...</td>\n",
       "      <td>...</td>\n",
       "      <td>...</td>\n",
       "      <td>...</td>\n",
       "      <td>...</td>\n",
       "    </tr>\n",
       "    <tr>\n",
       "      <th>61004</th>\n",
       "      <td>-1.000000e+00</td>\n",
       "      <td>2.016000e+13</td>\n",
       "      <td>1.670190e+05</td>\n",
       "      <td>1971.0</td>\n",
       "      <td>0.0</td>\n",
       "      <td>1.0</td>\n",
       "      <td>2016-06-22 00:00:00+00:00</td>\n",
       "      <td>2024-08-31 06:49:00</td>\n",
       "      <td>0.0</td>\n",
       "      <td>0.0</td>\n",
       "      <td>...</td>\n",
       "      <td>NaN</td>\n",
       "      <td>NaN</td>\n",
       "      <td>NaN</td>\n",
       "      <td>NaN</td>\n",
       "      <td>NaN</td>\n",
       "      <td>NaN</td>\n",
       "      <td>NaN</td>\n",
       "      <td>NaN</td>\n",
       "      <td>NaN</td>\n",
       "      <td>NaN</td>\n",
       "    </tr>\n",
       "    <tr>\n",
       "      <th>61005</th>\n",
       "      <td>-1.000000e+00</td>\n",
       "      <td>2.016000e+13</td>\n",
       "      <td>1.220590e+05</td>\n",
       "      <td>1974.0</td>\n",
       "      <td>0.0</td>\n",
       "      <td>0.0</td>\n",
       "      <td>2016-01-23 00:00:00+00:00</td>\n",
       "      <td>2024-08-31 08:34:00</td>\n",
       "      <td>0.0</td>\n",
       "      <td>0.0</td>\n",
       "      <td>...</td>\n",
       "      <td>NaN</td>\n",
       "      <td>NaN</td>\n",
       "      <td>NaN</td>\n",
       "      <td>NaN</td>\n",
       "      <td>NaN</td>\n",
       "      <td>NaN</td>\n",
       "      <td>NaN</td>\n",
       "      <td>NaN</td>\n",
       "      <td>NaN</td>\n",
       "      <td>NaN</td>\n",
       "    </tr>\n",
       "    <tr>\n",
       "      <th>61006</th>\n",
       "      <td>1.559573e+10</td>\n",
       "      <td>2.020000e+13</td>\n",
       "      <td>1.559588e+10</td>\n",
       "      <td>1995.0</td>\n",
       "      <td>0.0</td>\n",
       "      <td>0.0</td>\n",
       "      <td>2020-09-17 00:00:00+00:00</td>\n",
       "      <td>2024-08-31 04:31:01</td>\n",
       "      <td>1.0</td>\n",
       "      <td>0.0</td>\n",
       "      <td>...</td>\n",
       "      <td>NaN</td>\n",
       "      <td>NaN</td>\n",
       "      <td>NaN</td>\n",
       "      <td>NaN</td>\n",
       "      <td>NaN</td>\n",
       "      <td>NaN</td>\n",
       "      <td>NaN</td>\n",
       "      <td>NaN</td>\n",
       "      <td>NaN</td>\n",
       "      <td>NaN</td>\n",
       "    </tr>\n",
       "    <tr>\n",
       "      <th>61007</th>\n",
       "      <td>1.913766e+10</td>\n",
       "      <td>2.022000e+13</td>\n",
       "      <td>3.134244e+10</td>\n",
       "      <td>1987.0</td>\n",
       "      <td>0.0</td>\n",
       "      <td>0.0</td>\n",
       "      <td>2022-01-22 00:00:00+00:00</td>\n",
       "      <td>2024-08-31 15:49:44</td>\n",
       "      <td>0.0</td>\n",
       "      <td>0.0</td>\n",
       "      <td>...</td>\n",
       "      <td>NaN</td>\n",
       "      <td>NaN</td>\n",
       "      <td>NaN</td>\n",
       "      <td>NaN</td>\n",
       "      <td>NaN</td>\n",
       "      <td>NaN</td>\n",
       "      <td>NaN</td>\n",
       "      <td>NaN</td>\n",
       "      <td>NaN</td>\n",
       "      <td>NaN</td>\n",
       "    </tr>\n",
       "    <tr>\n",
       "      <th>61008</th>\n",
       "      <td>7.730724e+09</td>\n",
       "      <td>2.021000e+13</td>\n",
       "      <td>2.335912e+10</td>\n",
       "      <td>1991.0</td>\n",
       "      <td>0.0</td>\n",
       "      <td>0.0</td>\n",
       "      <td>2021-04-25 00:00:00+00:00</td>\n",
       "      <td>2024-08-31 13:26:44</td>\n",
       "      <td>0.0</td>\n",
       "      <td>1.0</td>\n",
       "      <td>...</td>\n",
       "      <td>NaN</td>\n",
       "      <td>NaN</td>\n",
       "      <td>NaN</td>\n",
       "      <td>NaN</td>\n",
       "      <td>NaN</td>\n",
       "      <td>NaN</td>\n",
       "      <td>NaN</td>\n",
       "      <td>NaN</td>\n",
       "      <td>NaN</td>\n",
       "      <td>NaN</td>\n",
       "    </tr>\n",
       "  </tbody>\n",
       "</table>\n",
       "<p>61009 rows × 2079 columns</p>\n",
       "</div>"
      ],
      "text/plain": [
       "         Subject ID   GO / SC Num  Terry Stop ID  Officer YOB  Officer Gender  \\\n",
       "0     -1.000000e+00  2.016000e+13   2.083730e+05       1953.0             0.0   \n",
       "1     -1.000000e+00  2.018000e+13   5.591460e+05       1964.0             0.0   \n",
       "2     -1.000000e+00  2.018000e+13   4.982460e+05       1962.0             0.0   \n",
       "3     -1.000000e+00  2.016000e+13   1.467420e+05       1974.0             0.0   \n",
       "4     -1.000000e+00  2.015000e+13   1.044770e+05       1975.0             0.0   \n",
       "...             ...           ...            ...          ...             ...   \n",
       "61004 -1.000000e+00  2.016000e+13   1.670190e+05       1971.0             0.0   \n",
       "61005 -1.000000e+00  2.016000e+13   1.220590e+05       1974.0             0.0   \n",
       "61006  1.559573e+10  2.020000e+13   1.559588e+10       1995.0             0.0   \n",
       "61007  1.913766e+10  2.022000e+13   3.134244e+10       1987.0             0.0   \n",
       "61008  7.730724e+09  2.021000e+13   2.335912e+10       1991.0             0.0   \n",
       "\n",
       "       Subject Perceived Gender             Reported Date       Reported Time  \\\n",
       "0                           0.0 2016-11-03 00:00:00+00:00 2024-08-31 15:18:00   \n",
       "1                           0.0 2018-06-22 00:00:00+00:00 2024-08-31 00:07:00   \n",
       "2                           0.0 2018-11-02 00:00:00+00:00 2024-08-31 02:56:00   \n",
       "3                           2.0 2016-04-17 00:00:00+00:00 2024-08-31 01:44:00   \n",
       "4                           1.0 2015-11-29 00:00:00+00:00 2024-08-31 02:59:00   \n",
       "...                         ...                       ...                 ...   \n",
       "61004                       1.0 2016-06-22 00:00:00+00:00 2024-08-31 06:49:00   \n",
       "61005                       0.0 2016-01-23 00:00:00+00:00 2024-08-31 08:34:00   \n",
       "61006                       0.0 2020-09-17 00:00:00+00:00 2024-08-31 04:31:01   \n",
       "61007                       0.0 2022-01-22 00:00:00+00:00 2024-08-31 15:49:44   \n",
       "61008                       0.0 2021-04-25 00:00:00+00:00 2024-08-31 13:26:44   \n",
       "\n",
       "       Arrest Flag  Frisk Flag  ...  \\\n",
       "0              0.0         0.0  ...   \n",
       "1              0.0         0.0  ...   \n",
       "2              0.0         0.0  ...   \n",
       "3              0.0         0.0  ...   \n",
       "4              0.0         0.0  ...   \n",
       "...            ...         ...  ...   \n",
       "61004          0.0         0.0  ...   \n",
       "61005          0.0         0.0  ...   \n",
       "61006          1.0         0.0  ...   \n",
       "61007          0.0         0.0  ...   \n",
       "61008          0.0         1.0  ...   \n",
       "\n",
       "       Officer Squad_ZOLD CRIME ANALYSIS UNIT - ANALYSTS  Officer Squad_nan  \\\n",
       "0                                                    0.0                0.0   \n",
       "1                                                    0.0                0.0   \n",
       "2                                                    0.0                0.0   \n",
       "3                                                    0.0                0.0   \n",
       "4                                                    0.0                0.0   \n",
       "...                                                  ...                ...   \n",
       "61004                                                NaN                NaN   \n",
       "61005                                                NaN                NaN   \n",
       "61006                                                NaN                NaN   \n",
       "61007                                                NaN                NaN   \n",
       "61008                                                NaN                NaN   \n",
       "\n",
       "       Precinct_FK ERROR  Precinct_North  Precinct_OOJ  Precinct_South  \\\n",
       "0                    0.0             1.0           0.0             0.0   \n",
       "1                    0.0             0.0           0.0             0.0   \n",
       "2                    0.0             1.0           0.0             0.0   \n",
       "3                    0.0             0.0           0.0             0.0   \n",
       "4                    0.0             1.0           0.0             0.0   \n",
       "...                  ...             ...           ...             ...   \n",
       "61004                NaN             NaN           NaN             NaN   \n",
       "61005                NaN             NaN           NaN             NaN   \n",
       "61006                NaN             NaN           NaN             NaN   \n",
       "61007                NaN             NaN           NaN             NaN   \n",
       "61008                NaN             NaN           NaN             NaN   \n",
       "\n",
       "       Precinct_Southwest  Precinct_Unknown  Precinct_West  Precinct_nan  \n",
       "0                     0.0               0.0            0.0           0.0  \n",
       "1                     1.0               0.0            0.0           0.0  \n",
       "2                     0.0               0.0            0.0           0.0  \n",
       "3                     0.0               0.0            0.0           0.0  \n",
       "4                     0.0               0.0            0.0           0.0  \n",
       "...                   ...               ...            ...           ...  \n",
       "61004                 NaN               NaN            NaN           NaN  \n",
       "61005                 NaN               NaN            NaN           NaN  \n",
       "61006                 NaN               NaN            NaN           NaN  \n",
       "61007                 NaN               NaN            NaN           NaN  \n",
       "61008                 NaN               NaN            NaN           NaN  \n",
       "\n",
       "[61009 rows x 2079 columns]"
      ]
     },
     "execution_count": 81,
     "metadata": {},
     "output_type": "execute_result"
    }
   ],
   "source": [
    "# Select the categorical columns to be one-hot encoded\n",
    "categorical_df = categorical_columns\n",
    "\n",
    "# Create an instance of the OneHotEncoder\n",
    "encoder = OneHotEncoder(sparse=False, drop='first')  # sparse=False to return a dense array\n",
    "\n",
    "# Fit and transform the categorical columns\n",
    "encoded_data = encoder.fit_transform(df[categorical_df])\n",
    "\n",
    "# Convert the encoded data to a DataFrame\n",
    "encoded_df = pd.DataFrame(encoded_data, columns=encoder.get_feature_names_out(categorical_df))\n",
    "\n",
    "# Concatenate the encoded DataFrame with the remaining columns from the original DataFrame\n",
    "df_data = pd.concat([df.drop(categorical_df, axis=1), encoded_df], axis=1)\n",
    "\n",
    "df_data\n"
   ]
  },
  {
   "cell_type": "code",
   "execution_count": 94,
   "metadata": {},
   "outputs": [],
   "source": [
    "df_data = df_data.dropna()"
   ]
  },
  {
   "cell_type": "markdown",
   "metadata": {},
   "source": [
    "## Data splitting\n"
   ]
  },
  {
   "cell_type": "code",
   "execution_count": 95,
   "metadata": {},
   "outputs": [],
   "source": [
    "X = df_data.drop(columns=['Arrest Flag','Reported Date','Reported Time'],axis=1)\n",
    "y = df_data['Arrest Flag']"
   ]
  },
  {
   "cell_type": "code",
   "execution_count": 96,
   "metadata": {},
   "outputs": [],
   "source": [
    "X_train, X_test, y_train, y_test = train_test_split(X,y,test_size=0.2,random_state=42)"
   ]
  },
  {
   "cell_type": "markdown",
   "metadata": {},
   "source": [
    "### Data preprocessing\n",
    "\n",
    "*Standardization*\n",
    "\n",
    "* We will employ standardization to rescale the features of a Terry stop dataset so that they have a mean of zero and a variance of one.\n",
    "\n",
    "* This process helps to normalize the features to a similar scale, which can be advantageous for machine learning algorithms that are sensitive to the scale of input features."
   ]
  },
  {
   "cell_type": "code",
   "execution_count": 97,
   "metadata": {},
   "outputs": [],
   "source": [
    "# Create an instance of StandardScaler\n",
    "scaler = StandardScaler()\n",
    "\n",
    "# Fit the scaler on the training data\n",
    "scaler.fit(X_train)\n",
    "\n",
    "# Transform the training and test data\n",
    "X_train_scaled = scaler.fit_transform(X_train)\n",
    "X_test_scaled = scaler.transform(X_test)"
   ]
  },
  {
   "cell_type": "markdown",
   "metadata": {},
   "source": [
    ">Use SMOTE to solve for class imbalance"
   ]
  },
  {
   "cell_type": "code",
   "execution_count": 98,
   "metadata": {},
   "outputs": [],
   "source": [
    "smote = SMOTE(random_state=42)\n",
    "#SMOTE only to the training data\n",
    "X_train_smote, y_train_smote = smote.fit_resample(X_train, y_train)"
   ]
  },
  {
   "cell_type": "markdown",
   "metadata": {},
   "source": [
    "## Baseline Logistic Regression Model"
   ]
  },
  {
   "cell_type": "code",
   "execution_count": 99,
   "metadata": {},
   "outputs": [
    {
     "data": {
      "text/plain": [
       "array([[ 3.08022939e-11, -5.34961909e-14,  4.34816901e-11, ...,\n",
       "        -2.78157275e-23,  3.01266901e-22, -2.23471635e-23]])"
      ]
     },
     "execution_count": 99,
     "metadata": {},
     "output_type": "execute_result"
    }
   ],
   "source": [
    "# Create an instance of Logistic Regression\n",
    "logreg = LogisticRegression(solver='liblinear', random_state=42)\n",
    "model_log = logreg.fit(X_train_smote,y_train_smote)\n",
    "model_log\n",
    "model_log.coef_"
   ]
  },
  {
   "cell_type": "code",
   "execution_count": 100,
   "metadata": {},
   "outputs": [],
   "source": [
    "# Predict on the training and testing data\n",
    "y_train_pred = logreg.predict(X_train_smote)\n",
    "y_test_pred_1 = logreg.predict(X_test)\n",
    "\n",
    "# Calculate accuracy on the training and testing data\n",
    "train_accuracy = accuracy_score(y_train_smote, y_train_pred)\n",
    "test_accuracy = accuracy_score(y_test, y_test_pred_1)"
   ]
  },
  {
   "cell_type": "code",
   "execution_count": 102,
   "metadata": {},
   "outputs": [],
   "source": [
    "#creating a function for checking for metrics \n",
    "def evaluate_model_metrics(model, X_train, y_train, X_test, y_test):\n",
    "    # Train the model\n",
    "    model.fit(X_train, y_train)\n",
    "\n",
    "    # Predict on the training and testing data\n",
    "    y_train_pred = model.predict(X_train)\n",
    "    y_test_pred = model.predict(X_test)\n",
    "\n",
    "    # Calculate evaluation metrics\n",
    "    roc_auc_train = roc_auc_score(y_train, y_train_pred)\n",
    "    roc_auc_test = roc_auc_score(y_test, y_test_pred)\n",
    "    cm_test = confusion_matrix(y_test, y_test_pred)\n",
    "    cm_display_train = ConfusionMatrixDisplay(confusion_matrix=cm_test).plot()\n",
    "    accuracy_train = accuracy_score(y_train, y_train_pred)\n",
    "    accuracy_test = accuracy_score(y_test, y_test_pred)\n",
    "\n",
    "    # Return results\n",
    "    results = {\n",
    "        'roc_auc_train': roc_auc_train,\n",
    "        'roc_auc_test': roc_auc_test,\n",
    "        'accuracy_train': accuracy_train,\n",
    "        'accuracy_test': accuracy_test,\n",
    "        'confusion_matrix_train': cm_display_train\n",
    "    }\n",
    "    return results"
   ]
  },
  {
   "cell_type": "code",
   "execution_count": 103,
   "metadata": {},
   "outputs": [],
   "source": [
    "#creating a function for checking for classification report\n",
    "def generate_classification_report(y_true, y_pred):\n",
    "    # Generate classification report with output_dict=True\n",
    "    report_dict = classification_report(y_true, y_pred, output_dict=True)\n",
    "    \n",
    "    # Convert the report to a DataFrame\n",
    "    report = pd.DataFrame(report_dict).transpose()\n",
    "    \n",
    "    return report"
   ]
  },
  {
   "cell_type": "code",
   "execution_count": 104,
   "metadata": {},
   "outputs": [
    {
     "data": {
      "text/html": [
       "<div>\n",
       "<style scoped>\n",
       "    .dataframe tbody tr th:only-of-type {\n",
       "        vertical-align: middle;\n",
       "    }\n",
       "\n",
       "    .dataframe tbody tr th {\n",
       "        vertical-align: top;\n",
       "    }\n",
       "\n",
       "    .dataframe thead th {\n",
       "        text-align: right;\n",
       "    }\n",
       "</style>\n",
       "<table border=\"1\" class=\"dataframe\">\n",
       "  <thead>\n",
       "    <tr style=\"text-align: right;\">\n",
       "      <th></th>\n",
       "      <th>precision</th>\n",
       "      <th>recall</th>\n",
       "      <th>f1-score</th>\n",
       "      <th>support</th>\n",
       "    </tr>\n",
       "  </thead>\n",
       "  <tbody>\n",
       "    <tr>\n",
       "      <th>0.0</th>\n",
       "      <td>0.939194</td>\n",
       "      <td>0.764766</td>\n",
       "      <td>0.843052</td>\n",
       "      <td>10785.000000</td>\n",
       "    </tr>\n",
       "    <tr>\n",
       "      <th>1.0</th>\n",
       "      <td>0.234691</td>\n",
       "      <td>0.592988</td>\n",
       "      <td>0.336287</td>\n",
       "      <td>1312.000000</td>\n",
       "    </tr>\n",
       "    <tr>\n",
       "      <th>accuracy</th>\n",
       "      <td>0.746135</td>\n",
       "      <td>0.746135</td>\n",
       "      <td>0.746135</td>\n",
       "      <td>0.746135</td>\n",
       "    </tr>\n",
       "    <tr>\n",
       "      <th>macro avg</th>\n",
       "      <td>0.586942</td>\n",
       "      <td>0.678877</td>\n",
       "      <td>0.589670</td>\n",
       "      <td>12097.000000</td>\n",
       "    </tr>\n",
       "    <tr>\n",
       "      <th>weighted avg</th>\n",
       "      <td>0.862786</td>\n",
       "      <td>0.746135</td>\n",
       "      <td>0.788090</td>\n",
       "      <td>12097.000000</td>\n",
       "    </tr>\n",
       "  </tbody>\n",
       "</table>\n",
       "</div>"
      ],
      "text/plain": [
       "              precision    recall  f1-score       support\n",
       "0.0            0.939194  0.764766  0.843052  10785.000000\n",
       "1.0            0.234691  0.592988  0.336287   1312.000000\n",
       "accuracy       0.746135  0.746135  0.746135      0.746135\n",
       "macro avg      0.586942  0.678877  0.589670  12097.000000\n",
       "weighted avg   0.862786  0.746135  0.788090  12097.000000"
      ]
     },
     "execution_count": 104,
     "metadata": {},
     "output_type": "execute_result"
    }
   ],
   "source": [
    "# calling the function to get classifification report values\n",
    "logreg_report = generate_classification_report(y_test, y_test_pred_1)\n",
    "logreg_report"
   ]
  },
  {
   "cell_type": "markdown",
   "metadata": {},
   "source": [
    "* Precision: The precision values for class 0 and class 1 are 0.939194 and 0.234691, respectively. Higher precision signifies a lower rate of false positives for that class. With a higher precision in class 0, the model demonstrates better performance in predicting class 0 than class 1.\n",
    "\n",
    "* Recall: The recall values for class 0 and class 1 are 0.764766 and 0.592988, respectively. Recall measures the model's ability to correctly identify positive instances. Like precision, recall is higher for class 0, indicating better performance in identifying class 0 instances compared to class 1.\n",
    "\n",
    "* F1-Score: The F1-scores for class 0 and class 1 are 0.843052 and 0.336287, respectively. The F1-score is the harmonic mean of precision and recall, balancing both metrics. Once again, class 0 has a higher F1-score than class 1.\n",
    "\n",
    "* Accuracy: The model's accuracy is 0.746135, meaning that 74.61% of the predictions were correct out of all instances.\n",
    "\n",
    ">Therefore, logistic regression achieves 74.61% prediction accuracy on the test data.\n",
    ">Based on these metrics, it is evident that the model performs better for class 0 compared to class 1."
   ]
  },
  {
   "cell_type": "code",
   "execution_count": 105,
   "metadata": {},
   "outputs": [
    {
     "data": {
      "text/plain": [
       "{'roc_auc_train': 0.6798585343228201,\n",
       " 'roc_auc_test': 0.6788768417065255,\n",
       " 'accuracy_train': 0.6798585343228201,\n",
       " 'accuracy_test': 0.7461354054724312,\n",
       " 'confusion_matrix_train': <sklearn.metrics._plot.confusion_matrix.ConfusionMatrixDisplay at 0x205e766b520>}"
      ]
     },
     "execution_count": 105,
     "metadata": {},
     "output_type": "execute_result"
    },
    {
     "data": {
      "image/png": "[encoded data removed]",
      "text/plain": [
       "<Figure size 432x288 with 2 Axes>"
      ]
     },
     "metadata": {
      "needs_background": "light"
     },
     "output_type": "display_data"
    }
   ],
   "source": [
    "#metric of baseline model and draw confusion matrix\n",
    "evaluate_model_metrics(logreg, X_train_smote,y_train_smote, X_test, y_test)"
   ]
  },
  {
   "cell_type": "markdown",
   "metadata": {},
   "source": [
    "## Model Performance Summary\n",
    "The logistic regression model demonstrates the following performance metrics:\n",
    "\n",
    "* ROC AUC:\n",
    "\n",
    "Training: 0.6798585343228201\n",
    "\n",
    "Test: 0.6788768417065255\n",
    "\n",
    "* Confusion Matrix:\n",
    "\n",
    "True Positives (TP): 778\n",
    "\n",
    "False Negatives (FN): 534\n",
    "\n",
    "True Negatives (TN): 8248\n",
    "\n",
    "False Positives (FP): 2537\n",
    "\n",
    "* Accuracy:\n",
    "\n",
    "Training: 0.6798585343228201\n",
    "\n",
    "Testing: 0.7461354054724312\n",
    "\n",
    "Observations:\n",
    "\n",
    "* The model shows a high level of discrimination on the training data but significantly lower on the test data, suggesting potential overfitting.\n",
    "* The confusion matrix indicates a considerable number of false positives, highlighting the need for model improvement."
   ]
  },
  {
   "cell_type": "markdown",
   "metadata": {},
   "source": [
    "## Cross-Validation"
   ]
  },
  {
   "cell_type": "code",
   "execution_count": 106,
   "metadata": {},
   "outputs": [],
   "source": [
    "# Create an instance of Logistic Regression with cross-validation\n",
    "logreg_final = LogisticRegressionCV(Cs=10, cv=5, solver='liblinear')\n",
    "\n",
    "# Fit the model on the resampled training data\n",
    "logreg_final.fit(X_train_smote, y_train_smote)\n",
    "\n",
    "# Predict on the resampled training and testing data\n",
    "y_train_pred = logreg.predict(X_train_smote)\n",
    "y_test_pred = logreg.predict(X_test)\n",
    "\n",
    "# Calculate accuracy on the resampled training and testing data\n",
    "train_accuracy = accuracy_score(y_train_smote, y_train_pred)\n",
    "test_accuracy = accuracy_score(y_test, y_test_pred)"
   ]
  },
  {
   "cell_type": "code",
   "execution_count": 107,
   "metadata": {},
   "outputs": [
    {
     "data": {
      "text/plain": [
       "{'roc_auc_train': 0.6798585343228201,\n",
       " 'roc_auc_test': 0.6788768417065255,\n",
       " 'accuracy_train': 0.6798585343228201,\n",
       " 'accuracy_test': 0.7461354054724312,\n",
       " 'confusion_matrix_train': <sklearn.metrics._plot.confusion_matrix.ConfusionMatrixDisplay at 0x205ebad7850>}"
      ]
     },
     "execution_count": 107,
     "metadata": {},
     "output_type": "execute_result"
    },
    {
     "data": {
      "image/png": "[encoded data removed]",
      "text/plain": [
       "<Figure size 432x288 with 2 Axes>"
      ]
     },
     "metadata": {
      "needs_background": "light"
     },
     "output_type": "display_data"
    }
   ],
   "source": [
    "evaluate_model_metrics(logreg_final,X_train_smote,y_train_smote,X_test,y_test)"
   ]
  },
  {
   "cell_type": "markdown",
   "metadata": {},
   "source": [
    "* After applying cross-validation with five folds, we obtained an improved model with an average accuracy of 0.7461, representing an 74.61% accuracy level in predicting arrests occuring after a Terry Stop on the test data. The training data accuracy also adjusted to 0.7461.\n",
    "\n",
    "* This adjusted model shows no significant change in performance, accurately predicting the class labels for most instances in both training and testing datasets. The testing accuracy is slightly lower than the training accuracy, which is expected but not significantly different.\n",
    "\n",
    "* Therefore, we can proceed to evaluate the second model to determine if it performs better in predicting arrests occuring after a Terry Stop compared to logistic regression."
   ]
  },
  {
   "cell_type": "markdown",
   "metadata": {},
   "source": [
    "## Decison Trees classifier model"
   ]
  },
  {
   "cell_type": "code",
   "execution_count": 108,
   "metadata": {},
   "outputs": [],
   "source": [
    "#DecisionTreeClassifier\n",
    "dt_clf = DecisionTreeClassifier(max_depth=5, min_samples_split=5)\n",
    "\n",
    "# Fit the model on the training data\n",
    "dt_clf.fit(X_train_smote, y_train_smote)\n",
    "\n",
    "# Predict on the training and testing data\n",
    "y_train_pred_2= dt_clf.predict(X_train_smote)\n",
    "y_test_pred_2 = dt_clf.predict(X_test)\n",
    "\n",
    "# Calculate accuracy on the training and testing data\n",
    "train_accuracy = accuracy_score(y_train_smote, y_train_pred)\n",
    "test_accuracy = accuracy_score(y_test, y_test_pred_2)"
   ]
  },
  {
   "cell_type": "code",
   "execution_count": 109,
   "metadata": {},
   "outputs": [
    {
     "data": {
      "text/plain": [
       "{'roc_auc_train': 0.8799049165120594,\n",
       " 'roc_auc_test': 0.6636373562536043,\n",
       " 'accuracy_train': 0.8799049165120594,\n",
       " 'accuracy_test': 0.8401256509878482,\n",
       " 'confusion_matrix_train': <sklearn.metrics._plot.confusion_matrix.ConfusionMatrixDisplay at 0x205e8e66550>}"
      ]
     },
     "execution_count": 109,
     "metadata": {},
     "output_type": "execute_result"
    },
    {
     "data": {
      "image/png": "[encoded data removed]",
      "text/plain": [
       "<Figure size 432x288 with 2 Axes>"
      ]
     },
     "metadata": {
      "needs_background": "light"
     },
     "output_type": "display_data"
    }
   ],
   "source": [
    "#checking for decison tree metrics using the predefiend function \n",
    "evaluate_model_metrics(dt_clf, X_train_smote, y_train_smote, X_test, y_test)"
   ]
  },
  {
   "cell_type": "markdown",
   "metadata": {},
   "source": [
    "### Classification Report Summary\n",
    "\n",
    "The logistic regression model exhibits the following performance metrics:\n",
    "\n",
    "* Precision:\n",
    "\n",
    "Class 0: 0.93\n",
    "\n",
    "Class 1: 0.32\n",
    "\n",
    "* Recall:\n",
    "\n",
    "Class 0:  0.89\n",
    "\n",
    "Class 1: 0.44\n",
    "\n",
    "* F1-score:\n",
    "\n",
    "Class 0: 0.91\n",
    "\n",
    "Class 1: 0.37\n",
    "\n",
    "* Accuracy:\n",
    "\n",
    "Overall: 0.84\n",
    "\n",
    "* Macro Average: \n",
    "\n",
    "Precision: 0.625\n",
    "\n",
    "Recall: 0.665\n",
    "\n",
    "F1-score: 0.64\n",
    "\n",
    "\n",
    "Observations:\n",
    "* High precision and recall for class 0, indicating strong performance in identifying true negatives.\n",
    "* The precision is lower in class 1, suggesting the model struggles to correctly identify true positives but the recall is moderate.\n",
    "* Overall accuracy of 84%, suggesting robust performance across all instances.\n",
    "* The macro average shows that there is a disparity between the performance on Class 0 and Class 1, with Class 1 being harder for the model to predict correctly.\n",
    "* The ROC AUC for the test set (0.66) suggests that the model has moderate discrimination ability on unseen data, although there is a notable drop from the training set's ROC AUC (0.88).\n",
    "> To gain further insights, we will examine the classification report for all metrics related to the Decision Tree classifier.\n"
   ]
  },
  {
   "cell_type": "code",
   "execution_count": 110,
   "metadata": {},
   "outputs": [
    {
     "data": {
      "text/html": [
       "<div>\n",
       "<style scoped>\n",
       "    .dataframe tbody tr th:only-of-type {\n",
       "        vertical-align: middle;\n",
       "    }\n",
       "\n",
       "    .dataframe tbody tr th {\n",
       "        vertical-align: top;\n",
       "    }\n",
       "\n",
       "    .dataframe thead th {\n",
       "        text-align: right;\n",
       "    }\n",
       "</style>\n",
       "<table border=\"1\" class=\"dataframe\">\n",
       "  <thead>\n",
       "    <tr style=\"text-align: right;\">\n",
       "      <th></th>\n",
       "      <th>precision</th>\n",
       "      <th>recall</th>\n",
       "      <th>f1-score</th>\n",
       "      <th>support</th>\n",
       "    </tr>\n",
       "  </thead>\n",
       "  <tbody>\n",
       "    <tr>\n",
       "      <th>0.0</th>\n",
       "      <td>0.928620</td>\n",
       "      <td>0.889013</td>\n",
       "      <td>0.908385</td>\n",
       "      <td>10785.000000</td>\n",
       "    </tr>\n",
       "    <tr>\n",
       "      <th>1.0</th>\n",
       "      <td>0.324492</td>\n",
       "      <td>0.438262</td>\n",
       "      <td>0.372892</td>\n",
       "      <td>1312.000000</td>\n",
       "    </tr>\n",
       "    <tr>\n",
       "      <th>accuracy</th>\n",
       "      <td>0.840126</td>\n",
       "      <td>0.840126</td>\n",
       "      <td>0.840126</td>\n",
       "      <td>0.840126</td>\n",
       "    </tr>\n",
       "    <tr>\n",
       "      <th>macro avg</th>\n",
       "      <td>0.626556</td>\n",
       "      <td>0.663637</td>\n",
       "      <td>0.640638</td>\n",
       "      <td>12097.000000</td>\n",
       "    </tr>\n",
       "    <tr>\n",
       "      <th>weighted avg</th>\n",
       "      <td>0.863098</td>\n",
       "      <td>0.840126</td>\n",
       "      <td>0.850307</td>\n",
       "      <td>12097.000000</td>\n",
       "    </tr>\n",
       "  </tbody>\n",
       "</table>\n",
       "</div>"
      ],
      "text/plain": [
       "              precision    recall  f1-score       support\n",
       "0.0            0.928620  0.889013  0.908385  10785.000000\n",
       "1.0            0.324492  0.438262  0.372892   1312.000000\n",
       "accuracy       0.840126  0.840126  0.840126      0.840126\n",
       "macro avg      0.626556  0.663637  0.640638  12097.000000\n",
       "weighted avg   0.863098  0.840126  0.850307  12097.000000"
      ]
     },
     "execution_count": 110,
     "metadata": {},
     "output_type": "execute_result"
    }
   ],
   "source": [
    "dt_clf_report = generate_classification_report(y_test, y_test_pred_2)\n",
    "dt_clf_report"
   ]
  },
  {
   "cell_type": "markdown",
   "metadata": {},
   "source": [
    "## Random forest model"
   ]
  },
  {
   "cell_type": "code",
   "execution_count": 111,
   "metadata": {},
   "outputs": [],
   "source": [
    "#random forest classifier with regularization parameters\n",
    "forest_classifier = RandomForestClassifier(n_estimators=100, max_depth=5, min_samples_split=5, max_features='sqrt', random_state=42)\n",
    "\n",
    "# Fit the model on the selected training data\n",
    "forest_classifier.fit(X_train_smote, y_train_smote)\n",
    "\n",
    "# Predict on the training and testing sets\n",
    "y_train_pred_3 = forest_classifier.predict(X_train_smote)\n",
    "y_test_pred_3 = forest_classifier.predict(X_test)\n",
    "\n",
    "# Calculate training and testing accuracy\n",
    "train_accuracy = accuracy_score(y_train_smote, y_train_pred)\n",
    "test_accuracy = accuracy_score(y_test, y_test_pred_3)"
   ]
  },
  {
   "cell_type": "code",
   "execution_count": 112,
   "metadata": {},
   "outputs": [
    {
     "data": {
      "text/plain": [
       "{'roc_auc_train': 0.8747680890538033,\n",
       " 'roc_auc_test': 0.7185708117077694,\n",
       " 'accuracy_train': 0.8747680890538033,\n",
       " 'accuracy_test': 0.775729519715632,\n",
       " 'confusion_matrix_train': <sklearn.metrics._plot.confusion_matrix.ConfusionMatrixDisplay at 0x205eaa061c0>}"
      ]
     },
     "execution_count": 112,
     "metadata": {},
     "output_type": "execute_result"
    },
    {
     "data": {
      "image/png": "[encoded data removed]",
      "text/plain": [
       "<Figure size 432x288 with 2 Axes>"
      ]
     },
     "metadata": {
      "needs_background": "light"
     },
     "output_type": "display_data"
    }
   ],
   "source": [
    "#checking for random forest metrics using the predefiend function \n",
    "evaluate_model_metrics(forest_classifier, X_train_smote, y_train_smote, X_test, y_test)"
   ]
  },
  {
   "cell_type": "markdown",
   "metadata": {},
   "source": [
    "Confusion Matrix Breakdown\n",
    "\n",
    "True Positives (TP): 8537\n",
    "* These are instances where the model correctly predicted the positive class.\n",
    "\n",
    "False Negatives (FN): 2248\n",
    "* These are instances where the model incorrectly predicted the negative class when it was actually positive.\n",
    "\n",
    "False Positives (FP): 465\n",
    "* These are instances where the model incorrectly predicted the positive class when it was actually negative.\n",
    "\n",
    "True Negatives (TN): 847\n",
    "* These are instances where the model correctly predicted the negative class.\n",
    "\n",
    "Insights\n",
    "* High True Positives: The model is quite effective at identifying the positive class, as indicated by the high number of true positives.\n",
    "* False Negatives: There is a significant number of false negatives, suggesting that the model misses a considerable portion of the positive class.\n",
    "* False Positives: The number of false positives is relatively low, indicating that the model is less likely to incorrectly identify the negative class as positive.\n",
    "* True Negatives: The true negatives are also relatively low, which might indicate an imbalance in the dataset or a need for model improvement.\n"
   ]
  },
  {
   "cell_type": "code",
   "execution_count": 113,
   "metadata": {},
   "outputs": [
    {
     "data": {
      "text/html": [
       "<div>\n",
       "<style scoped>\n",
       "    .dataframe tbody tr th:only-of-type {\n",
       "        vertical-align: middle;\n",
       "    }\n",
       "\n",
       "    .dataframe tbody tr th {\n",
       "        vertical-align: top;\n",
       "    }\n",
       "\n",
       "    .dataframe thead th {\n",
       "        text-align: right;\n",
       "    }\n",
       "</style>\n",
       "<table border=\"1\" class=\"dataframe\">\n",
       "  <thead>\n",
       "    <tr style=\"text-align: right;\">\n",
       "      <th></th>\n",
       "      <th>precision</th>\n",
       "      <th>recall</th>\n",
       "      <th>f1-score</th>\n",
       "      <th>support</th>\n",
       "    </tr>\n",
       "  </thead>\n",
       "  <tbody>\n",
       "    <tr>\n",
       "      <th>0.0</th>\n",
       "      <td>0.948345</td>\n",
       "      <td>0.791562</td>\n",
       "      <td>0.862890</td>\n",
       "      <td>10785.00000</td>\n",
       "    </tr>\n",
       "    <tr>\n",
       "      <th>1.0</th>\n",
       "      <td>0.273667</td>\n",
       "      <td>0.645579</td>\n",
       "      <td>0.384388</td>\n",
       "      <td>1312.00000</td>\n",
       "    </tr>\n",
       "    <tr>\n",
       "      <th>accuracy</th>\n",
       "      <td>0.775730</td>\n",
       "      <td>0.775730</td>\n",
       "      <td>0.775730</td>\n",
       "      <td>0.77573</td>\n",
       "    </tr>\n",
       "    <tr>\n",
       "      <th>macro avg</th>\n",
       "      <td>0.611006</td>\n",
       "      <td>0.718571</td>\n",
       "      <td>0.623639</td>\n",
       "      <td>12097.00000</td>\n",
       "    </tr>\n",
       "    <tr>\n",
       "      <th>weighted avg</th>\n",
       "      <td>0.875172</td>\n",
       "      <td>0.775730</td>\n",
       "      <td>0.810993</td>\n",
       "      <td>12097.00000</td>\n",
       "    </tr>\n",
       "  </tbody>\n",
       "</table>\n",
       "</div>"
      ],
      "text/plain": [
       "              precision    recall  f1-score      support\n",
       "0.0            0.948345  0.791562  0.862890  10785.00000\n",
       "1.0            0.273667  0.645579  0.384388   1312.00000\n",
       "accuracy       0.775730  0.775730  0.775730      0.77573\n",
       "macro avg      0.611006  0.718571  0.623639  12097.00000\n",
       "weighted avg   0.875172  0.775730  0.810993  12097.00000"
      ]
     },
     "execution_count": 113,
     "metadata": {},
     "output_type": "execute_result"
    }
   ],
   "source": [
    "generate_classification_report(y_test, y_test_pred_3)"
   ]
  },
  {
   "cell_type": "markdown",
   "metadata": {},
   "source": [
    ">For class 0 (negative class):\n",
    "\n",
    "* Precision: A value of 94.8% means that when the model predicts the negative class, it is correct 94.8% of the time.\n",
    "* Recall: At 79.2%, this indicates that the model correctly identifies 79.2% of the actual negative instances.\n",
    "* F1-score: With a value of 86.2%, this metric provides a balanced measure of precision and recall, combining both into a single value.\n",
    "* Support: There are 10785 instances of the negative class in the dataset.\n",
    ">For class 1 (positive class):\n",
    "\n",
    "* Precision at 27.4% means that when the model predicts the positive class, it is accurate 27.4% of the time.\n",
    "* Recall at 64.6% indicates that the model correctly identifies 64.6% of the actual positive instances.\n",
    "* The F1-score at 38.4% provides a balanced measure of precision and recall for the positive class.\n",
    "* Support indicates there are 1312 instances of the positive class in the dataset.\n",
    "* The Random Forest classifier achieves an overall accuracy of about 77.6%, showing the percentage of correctly predicted instances overall.\n",
    "\n",
    "### Summary\n",
    "\n",
    "* Based on the analysis of the three models, it is evident that logistic regression performs poorly in predicting arrests after a Terry Stop.\n",
    "* In contrast, both the Random Forest classifier and Decision Trees perform well with accuracies of 77.6% and 84%, respectively.\n",
    "* Therefore, it is crucial to enhance the performance of the Random Forest classifier and Decision Trees by tuning hyperparameters to achieve even better accuracy.\n",
    "* Hyperparameters are essential for improving the efficiency and performance of models.\n",
    "\n",
    "### Hyperparameter Tuning\n",
    "* Hyperparameters are settings that are predetermined and not learned from the data during model training.\n",
    "* They govern aspects like model complexity, regularization, learning rate, and number of iterations.\n",
    "* As the Random Forest classifier is our best-performing model among the three, we will employ Gridsearch to enhance its performance."
   ]
  },
  {
   "cell_type": "markdown",
   "metadata": {},
   "source": [
    "## Random Forest"
   ]
  },
  {
   "cell_type": "code",
   "execution_count": 116,
   "metadata": {},
   "outputs": [],
   "source": [
    "# Create an instance of the Random Forest classifier\n",
    "forest= RandomForestClassifier( random_state=42)\n",
    "\n",
    "# Define the parameter grid for grid search\n",
    "forest_param_grid = {\n",
    "    'n_estimators': [100],\n",
    "    'criterion': ['gini'],\n",
    "    'max_depth': [2,6],\n",
    "    'min_samples_split': [5],\n",
    "    'min_samples_leaf': [3]\n",
    "}\n",
    "\n",
    "# Create the GridSearchCV object\n",
    "grid_search = GridSearchCV(estimator=forest, param_grid=forest_param_grid, cv=3, n_jobs=-1)\n",
    "\n",
    "# Fit the grid search to the resampled training data\n",
    "grid_search.fit(X_train_smote, y_train_smote)\n",
    "\n",
    "# Get the best hyperparameters found during the grid search\n",
    "best_params = grid_search.best_params_\n",
    "\n",
    "# Create a new Random Forest classifier with the best hyperparameters\n",
    "best_model = RandomForestClassifier(**best_params, random_state=42)\n",
    "\n",
    "# Fit the best model to the resampled training data\n",
    "best_model.fit(X_train_smote, y_train_smote)\n",
    "\n",
    "# Predict on the training data\n",
    "y_train_pred = best_model.predict(X_train_smote)\n",
    "\n",
    "# Predict on the test data\n",
    "y_test_pred = best_model.predict(X_test)\n",
    "\n",
    "# Compute the accuracy\n",
    "accuracy_train = accuracy_score(y_train_smote, y_train_pred)\n",
    "accuracy_test = accuracy_score(y_test, y_test_pred)"
   ]
  },
  {
   "cell_type": "code",
   "execution_count": 117,
   "metadata": {},
   "outputs": [
    {
     "data": {
      "text/plain": [
       "{'roc_auc_train': 0.8867810760667905,\n",
       " 'roc_auc_test': 0.6870781601592093,\n",
       " 'accuracy_train': 0.8867810760667904,\n",
       " 'accuracy_test': 0.7989584194428371,\n",
       " 'confusion_matrix_train': <sklearn.metrics._plot.confusion_matrix.ConfusionMatrixDisplay at 0x20580593fd0>}"
      ]
     },
     "execution_count": 117,
     "metadata": {},
     "output_type": "execute_result"
    },
    {
     "data": {
      "image/png": "[encoded data removed]",
      "text/plain": [
       "<Figure size 432x288 with 2 Axes>"
      ]
     },
     "metadata": {
      "needs_background": "light"
     },
     "output_type": "display_data"
    }
   ],
   "source": [
    "#using the function above the draw confusion matrix \n",
    "evaluate_model_metrics(best_model, X_train_smote, y_train_smote, X_test, y_test)"
   ]
  },
  {
   "cell_type": "markdown",
   "metadata": {},
   "source": [
    "After optimizing the parameters for the Random Forest classifier using grid search, our model showed improved performance as described below:\n",
    "* The accuracy of the Random Forest model now stands at 79%, indicating that it correctly predicted the class labels for the test data with around 79.9% accuracy and achieved 88.7% accuracy on the training data, making it highly effective for predicting arrests occuring after a Terry Stop.\n",
    "* The confusion matrix with tuned parameters shows 714 true positives (TP), 8951 true negatives (TN), 1834 false positives (FP), and 598 false negatives (FN), demonstrating excellent predictive capability."
   ]
  },
  {
   "cell_type": "code",
   "execution_count": 122,
   "metadata": {},
   "outputs": [],
   "source": [
    "# Define the parameter grid for grid search\n",
    "dt_param_grid = {\n",
    "    'max_depth': [3, 5],\n",
    "    'min_samples_split': [2, 5],\n",
    "    'min_samples_leaf': [1, 2]\n",
    "}\n",
    "\n",
    "# Create an instance of DecisionTreeClassifier\n",
    "dt_clf_final= DecisionTreeClassifier()\n",
    "\n",
    "# Create the GridSearchCV object\n",
    "grid_search = GridSearchCV(estimator=dt_clf_final, param_grid=dt_param_grid, cv=3)\n",
    "\n",
    "# Fit the grid search to the resampled training data\n",
    "grid_search.fit(X_train_smote, y_train_smote)\n",
    "\n",
    "# Get the best hyperparameters found during the grid search\n",
    "best_params = grid_search.best_params_\n",
    "\n",
    "# Create a new DecisionTreeClassifier with the best hyperparameters\n",
    "best_model_2 = DecisionTreeClassifier(**best_params,random_state=42)\n",
    "\n",
    "# Fit the best model to the resampled training data\n",
    "best_model_2.fit(X_train_smote, y_train_smote)\n",
    "\n",
    "# Predict on the training and test data\n",
    "y_train_pred = best_model_2.predict(X_train_smote)\n",
    "y_test_pred = best_model_2.predict(X_test)\n",
    "\n",
    "# Calculate accuracy on the training and test data\n",
    "train_accuracy = accuracy_score(y_train_smote, y_train_pred)\n",
    "test_accuracy = accuracy_score(y_test, y_test_pred)"
   ]
  },
  {
   "cell_type": "code",
   "execution_count": 123,
   "metadata": {},
   "outputs": [
    {
     "data": {
      "text/plain": [
       "{'roc_auc_train': 0.8799049165120594,\n",
       " 'roc_auc_test': 0.6636373562536043,\n",
       " 'accuracy_train': 0.8799049165120594,\n",
       " 'accuracy_test': 0.8401256509878482,\n",
       " 'confusion_matrix_train': <sklearn.metrics._plot.confusion_matrix.ConfusionMatrixDisplay at 0x2058606b0d0>}"
      ]
     },
     "execution_count": 123,
     "metadata": {},
     "output_type": "execute_result"
    },
    {
     "data": {
      "image/png": "[encoded data removed]",
      "text/plain": [
       "<Figure size 432x288 with 2 Axes>"
      ]
     },
     "metadata": {
      "needs_background": "light"
     },
     "output_type": "display_data"
    }
   ],
   "source": [
    "evaluate_model_metrics(best_model_2, X_train_smote, y_train_smote, X_test, y_test)"
   ]
  },
  {
   "cell_type": "markdown",
   "metadata": {},
   "source": [
    "* The tuned Decision Tree model achieved a training accuracy of 87.5% and an improved test accuracy of 88%. This suggests that the model is performing well and has learned patterns in the data that enable accurate predictions.\n",
    "* The Logistic Regression model attained an AUC-ROC score of around 0.6799 on the training data and 0.6789 on the test data."
   ]
  },
  {
   "cell_type": "markdown",
   "metadata": {},
   "source": [
    "## Evaluation\n",
    "## Analysis accuracy level\n",
    "* We have developed three machine learning models to predict arrests occuring after Terry Stops in Seattle. Upon testing, we found that logistic regression performs poorly, achieving a training accuracy of 74.61% and a testing accuracy of 67.98%. Despite applying 3-fold cross-validation to mitigate overfitting, the training accuracy dropped to 67.99% and the testing accuracy to 67.89%.\n",
    "\n",
    "* In contrast, the decision tree classifier and random forest models demonstrated better accuracy. The decision tree achieved training and testing accuracies of 87.99% and 84.01%, respectively, while the random forest model had a training accuracy of 87.47% and a testing accuracy of 77.57%.\n",
    "\n",
    "* Therefore, it is evident that the decision tree model had the best average prediction accuracy, followed by the random forest. To further improve our prediction accuracy, we applied hyperparameter tuning using GridSearch.\n",
    "\n",
    "* After hyperparameter tuning, the decision tree model's accuracy improved to 88.7% on the training data and 79.9% on the testing data. The random forest model's accuracy improved to 88.7% on the training data and 79.9% on the testing data.\n",
    "\n",
    "* This indicates that there was some overfitting in the random forest model, making the decision tree preferable. In terms of precision, recall, and F1 score, the tuned decision tree outperformed the random forest classifier.\n",
    "\n",
    "## ROC curve to check the best model"
   ]
  },
  {
   "cell_type": "code",
   "execution_count": 124,
   "metadata": {},
   "outputs": [
    {
     "data": {
      "image/png": "[encoded data removed]",
      "text/plain": [
       "<Figure size 576x432 with 1 Axes>"
      ]
     },
     "metadata": {
      "needs_background": "light"
     },
     "output_type": "display_data"
    }
   ],
   "source": [
    "#drawing ROC curve for the above three models \n",
    "\n",
    "# Compute ROC curves and AUC scores for each model\n",
    "models = [best_model_2, logreg_final, best_model]\n",
    "labels = ['Random Forest', 'Logistic Regression', 'Decision Tree']\n",
    "\n",
    "plt.figure(figsize=(8, 6))\n",
    "\n",
    "for model, label in zip(models, labels):\n",
    "    if hasattr(model, \"predict_proba\"):\n",
    "        y_probs = model.predict_proba(X_test)[:, 1]\n",
    "    else:\n",
    "        y_probs = model.predict(X_test)\n",
    "    fpr, tpr, _ = roc_curve(y_test, y_probs)\n",
    "    auc_score = roc_auc_score(y_test, y_probs)\n",
    "\n",
    "    plt.plot(fpr, tpr, label='{} (AUC = {:.2f})'.format(label, auc_score))\n",
    "\n",
    "plt.plot([0, 1], [0, 1], 'k--')\n",
    "plt.xlabel('False Positive Rate')\n",
    "plt.ylabel('True Positive Rate')\n",
    "plt.title('Receiver Operating Characteristic (ROC) Curves')\n",
    "plt.legend()\n",
    "plt.show()"
   ]
  },
  {
   "cell_type": "markdown",
   "metadata": {},
   "source": [
    "## Model Comparison Summary\n",
    "Based on the AUC (Area Under the Curve) values from the ROC (Receiver Operating Characteristic) curve, the following inferences can be made about the models' performance:\n",
    "\n",
    "* Decision Tree:\n",
    "\n",
    "AUC: 0.84\n",
    "\n",
    "Inference: Exhibits the strongest discriminatory power, effectively distinguishing between positive and negative classes. Maintains a high true positive rate (TPR) with a low false positive rate (FPR), resulting in a large ROC curve area.\n",
    "* Random Forest:\n",
    "\n",
    "AUC: 0.85\n",
    "\n",
    "Inference: Demonstrates good classification ability slightly better than the Decision Tree. May have marginally lower false positive and false negative rates.\n",
    "* Logistic Regression:\n",
    "\n",
    "AUC: 0.80\n",
    "\n",
    "Inference: Shows the weakest discriminatory performance among the three models, with potentially higher false positive and false negative rates.\n",
    "\n",
    "Conclusion:\n",
    "\n",
    "* The Random Forest is identified as the best model for Arrests predictions due to its largest area under the ROC curve and highest accuracy and the most improved hence best in predicting Arrest occuring after Terry Stops.\n",
    "* The Decision Tree also performs well but is slightly less effective than the Random Forest.\n",
    "* The Logistic Regression model, while useful, has the lowest AUC, indicating comparatively weaker performance in distinguishing between classes."
   ]
  },
  {
   "cell_type": "markdown",
   "metadata": {},
   "source": [
    "## Conclusion\n",
    "> By leveraging the best model, which is the Random Forest, the public safety department can achieve significant benefits:\n",
    "\n",
    "* Accurate Prediction of arrests after a Terry stop: The model's high accuracy ensures effective identification of arrests likely to occur, enabling preparation on how to prosecute such cases.\n",
    "* Resource Allocation: Efficient Use of Resources: By predicting the likelihood of an arrest following a Terry stop, departments can allocate resources more effectively. This ensures that officers are deployed where they are most needed, potentially reducing response times and improving overall efficiency.\n",
    "* Crime Prevention through proactive Policing: Predictive models can help identify patterns and hotspots for criminal activity. This allows officers to be more proactive in their patrols, potentially preventing crimes before they occur.\n",
    "* Improved Training and Policies through data-driven decisions: Analysis of predictive data can inform training programs and policy adjustments. Departments can identify areas where officers may need additional training or where policies might need to be revised to improve outcomes.\n",
    "* Community Trust (Transparency and Accountability): Using data to predict arrests can increase transparency in policing practices. When the public sees that decisions are based on data and not bias, it can help build trust between the community and the police.\n",
    "* Legal and Ethical Compliance reducing bias: Predictive models can help ensure that Terry stops are conducted based on objective criteria rather than subjective judgment, potentially reducing instances of biased policing.\n",
    "* Enhanced Officer Safety: Predicting the likelihood of an arrest can also help assess the risk level of a situation, allowing officers to take necessary precautions to ensure their safety.\n",
    "\n"
   ]
  }
 ],
 "metadata": {
  "kernelspec": {
   "display_name": "learn-env",
   "language": "python",
   "name": "python3"
  },
  "language_info": {
   "codemirror_mode": {
    "name": "ipython",
    "version": 3
   },
   "file_extension": ".py",
   "mimetype": "text/x-python",
   "name": "python",
   "nbconvert_exporter": "python",
   "pygments_lexer": "ipython3",
   "version": "3.8.5"
  }
 },
 "nbformat": 4,
 "nbformat_minor": 2
}
